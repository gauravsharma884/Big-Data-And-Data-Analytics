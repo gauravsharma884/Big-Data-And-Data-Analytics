{
 "cells": [
  {
   "cell_type": "markdown",
   "id": "80773473",
   "metadata": {},
   "source": [
    "# <I><U><U>STARTUP SUCCESS PREDCITION"
   ]
  },
  {
   "cell_type": "markdown",
   "id": "709c8ebe",
   "metadata": {},
   "source": [
    "### <B>Objective:\n",
    "    \n",
    "    To construct a model that can forecast the success of a StartUp on the basis of different variables and to  determine which factors facilitates most in the success of a startup.\n",
    "    "
   ]
  },
  {
   "cell_type": "markdown",
   "id": "50d813e3",
   "metadata": {},
   "source": [
    "### Importing Libraries"
   ]
  },
  {
   "cell_type": "code",
   "execution_count": 1,
   "id": "9f6f6650",
   "metadata": {},
   "outputs": [],
   "source": [
    "import pandas as pd\n",
    "import numpy as np\n",
    "import matplotlib as mpl\n",
    "from matplotlib import pyplot as plt\n",
    "import seaborn as sns\n",
    "from datetime import date\n",
    "from scipy import stats\n",
    "from scipy.stats import norm, skew \n",
    "\n",
    "import plotly.express as px\n",
    "import plotly.graph_objects as go\n",
    "import plotly.figure_factory as ff\n",
    "from plotly.colors import n_colors\n",
    "from plotly.subplots import make_subplots\n",
    "\n",
    "\n",
    "from sklearn.preprocessing import StandardScaler as ss\n",
    "\n",
    "from sklearn.decomposition import PCA\n",
    "\n",
    "from sklearn.model_selection import train_test_split\n",
    "from sklearn.model_selection import StratifiedKFold\n",
    "\n",
    "from sklearn.pipeline import Pipeline\n",
    "from sklearn.pipeline import make_pipeline\n",
    "\n",
    "from sklearn.model_selection import GridSearchCV\n",
    "from sklearn.model_selection import RandomizedSearchCV\n",
    "\n",
    "from skopt import BayesSearchCV \n",
    "from skopt.space import Real, Categorical, Integer\n",
    "\n",
    "from xgboost.sklearn import XGBClassifier"
   ]
  },
  {
   "cell_type": "markdown",
   "id": "28301842",
   "metadata": {},
   "source": [
    "<b>Loading the dataset:"
   ]
  },
  {
   "cell_type": "code",
   "execution_count": 2,
   "id": "cf10c0cf",
   "metadata": {},
   "outputs": [],
   "source": [
    "data = pd.read_csv(\"/Users/gauravsharma/Documents/BDDA/data_files/startups_data.csv\",  encoding='latin-1')"
   ]
  },
  {
   "cell_type": "markdown",
   "id": "7c38de34",
   "metadata": {},
   "source": [
    "## Data Exploration:"
   ]
  },
  {
   "cell_type": "code",
   "execution_count": 3,
   "id": "7d40c855",
   "metadata": {},
   "outputs": [
    {
     "data": {
      "text/html": [
       "<div>\n",
       "<style scoped>\n",
       "    .dataframe tbody tr th:only-of-type {\n",
       "        vertical-align: middle;\n",
       "    }\n",
       "\n",
       "    .dataframe tbody tr th {\n",
       "        vertical-align: top;\n",
       "    }\n",
       "\n",
       "    .dataframe thead th {\n",
       "        text-align: right;\n",
       "    }\n",
       "</style>\n",
       "<table border=\"1\" class=\"dataframe\">\n",
       "  <thead>\n",
       "    <tr style=\"text-align: right;\">\n",
       "      <th></th>\n",
       "      <th>name</th>\n",
       "      <th>market</th>\n",
       "      <th>funding_total_usd</th>\n",
       "      <th>status</th>\n",
       "      <th>country_code</th>\n",
       "      <th>state_code</th>\n",
       "      <th>city</th>\n",
       "      <th>funding_rounds</th>\n",
       "      <th>founded_at</th>\n",
       "      <th>first_funding_at</th>\n",
       "      <th>last_funding_at</th>\n",
       "    </tr>\n",
       "  </thead>\n",
       "  <tbody>\n",
       "    <tr>\n",
       "      <th>0</th>\n",
       "      <td>Verizon Communications</td>\n",
       "      <td>Mobile</td>\n",
       "      <td>30079503000</td>\n",
       "      <td>ipo</td>\n",
       "      <td>USA</td>\n",
       "      <td>NY</td>\n",
       "      <td>New York</td>\n",
       "      <td>5</td>\n",
       "      <td>2015-04-19</td>\n",
       "      <td>2010-01-26</td>\n",
       "      <td>2014-02-28</td>\n",
       "    </tr>\n",
       "    <tr>\n",
       "      <th>1</th>\n",
       "      <td>Uber</td>\n",
       "      <td>Real Time</td>\n",
       "      <td>7007450000</td>\n",
       "      <td>operating</td>\n",
       "      <td>USA</td>\n",
       "      <td>CA</td>\n",
       "      <td>San Francisco</td>\n",
       "      <td>12</td>\n",
       "      <td>NaN</td>\n",
       "      <td>2009-08-01</td>\n",
       "      <td>2015-08-19</td>\n",
       "    </tr>\n",
       "    <tr>\n",
       "      <th>2</th>\n",
       "      <td>Sberbank</td>\n",
       "      <td>Finance</td>\n",
       "      <td>5800000000</td>\n",
       "      <td>ipo</td>\n",
       "      <td>RUS</td>\n",
       "      <td>NaN</td>\n",
       "      <td>Moscow</td>\n",
       "      <td>1</td>\n",
       "      <td>2014-04-01</td>\n",
       "      <td>2014-07-07</td>\n",
       "      <td>2014-07-07</td>\n",
       "    </tr>\n",
       "    <tr>\n",
       "      <th>3</th>\n",
       "      <td>Clearwire</td>\n",
       "      <td>Mobile</td>\n",
       "      <td>5720000000</td>\n",
       "      <td>acquired</td>\n",
       "      <td>USA</td>\n",
       "      <td>WA</td>\n",
       "      <td>Kirkland</td>\n",
       "      <td>5</td>\n",
       "      <td>2012-06-01</td>\n",
       "      <td>2001-12-11</td>\n",
       "      <td>2013-02-27</td>\n",
       "    </tr>\n",
       "    <tr>\n",
       "      <th>4</th>\n",
       "      <td>Charter Communications</td>\n",
       "      <td>Telecommunications</td>\n",
       "      <td>5162513431</td>\n",
       "      <td>ipo</td>\n",
       "      <td>USA</td>\n",
       "      <td>CT</td>\n",
       "      <td>Stamford</td>\n",
       "      <td>2</td>\n",
       "      <td>NaN</td>\n",
       "      <td>2009-11-21</td>\n",
       "      <td>2014-09-15</td>\n",
       "    </tr>\n",
       "  </tbody>\n",
       "</table>\n",
       "</div>"
      ],
      "text/plain": [
       "                     name              market  funding_total_usd     status  \\\n",
       "0  Verizon Communications              Mobile        30079503000        ipo   \n",
       "1                    Uber           Real Time         7007450000  operating   \n",
       "2                Sberbank             Finance         5800000000        ipo   \n",
       "3               Clearwire              Mobile         5720000000   acquired   \n",
       "4  Charter Communications  Telecommunications         5162513431        ipo   \n",
       "\n",
       "  country_code state_code           city  funding_rounds  founded_at  \\\n",
       "0          USA         NY       New York               5  2015-04-19   \n",
       "1          USA         CA  San Francisco              12         NaN   \n",
       "2          RUS        NaN         Moscow               1  2014-04-01   \n",
       "3          USA         WA       Kirkland               5  2012-06-01   \n",
       "4          USA         CT       Stamford               2         NaN   \n",
       "\n",
       "  first_funding_at last_funding_at  \n",
       "0       2010-01-26      2014-02-28  \n",
       "1       2009-08-01      2015-08-19  \n",
       "2       2014-07-07      2014-07-07  \n",
       "3       2001-12-11      2013-02-27  \n",
       "4       2009-11-21      2014-09-15  "
      ]
     },
     "execution_count": 3,
     "metadata": {},
     "output_type": "execute_result"
    }
   ],
   "source": [
    "data.head(5)"
   ]
  },
  {
   "cell_type": "code",
   "execution_count": 4,
   "id": "c7b06b0d",
   "metadata": {},
   "outputs": [
    {
     "data": {
      "text/plain": [
       "(61398, 11)"
      ]
     },
     "execution_count": 4,
     "metadata": {},
     "output_type": "execute_result"
    }
   ],
   "source": [
    "# Data Size\n",
    "data.shape"
   ]
  },
  {
   "cell_type": "code",
   "execution_count": 5,
   "id": "7f709c76",
   "metadata": {},
   "outputs": [
    {
     "name": "stdout",
     "output_type": "stream",
     "text": [
      "<class 'pandas.core.frame.DataFrame'>\n",
      "RangeIndex: 61398 entries, 0 to 61397\n",
      "Data columns (total 11 columns):\n",
      " #   Column             Non-Null Count  Dtype \n",
      "---  ------             --------------  ----- \n",
      " 0   name               61397 non-null  object\n",
      " 1   market             58641 non-null  object\n",
      " 2   funding_total_usd  61398 non-null  int64 \n",
      " 3   status             61398 non-null  object\n",
      " 4   country_code       55886 non-null  object\n",
      " 5   state_code         37224 non-null  object\n",
      " 6   city               54881 non-null  object\n",
      " 7   funding_rounds     61398 non-null  int64 \n",
      " 8   founded_at         47789 non-null  object\n",
      " 9   first_funding_at   61385 non-null  object\n",
      " 10  last_funding_at    61398 non-null  object\n",
      "dtypes: int64(2), object(9)\n",
      "memory usage: 5.2+ MB\n"
     ]
    }
   ],
   "source": [
    "# Description\n",
    "data.info()"
   ]
  },
  {
   "cell_type": "code",
   "execution_count": 6,
   "id": "9f289162",
   "metadata": {},
   "outputs": [
    {
     "data": {
      "text/plain": [
       "Index(['name', 'market', 'funding_total_usd', 'status', 'country_code',\n",
       "       'state_code', 'city', 'funding_rounds', 'founded_at',\n",
       "       'first_funding_at', 'last_funding_at'],\n",
       "      dtype='object')"
      ]
     },
     "execution_count": 6,
     "metadata": {},
     "output_type": "execute_result"
    }
   ],
   "source": [
    "data.columns"
   ]
  },
  {
   "cell_type": "code",
   "execution_count": 7,
   "id": "fd1f739d",
   "metadata": {},
   "outputs": [
    {
     "data": {
      "text/html": [
       "<div>\n",
       "<style scoped>\n",
       "    .dataframe tbody tr th:only-of-type {\n",
       "        vertical-align: middle;\n",
       "    }\n",
       "\n",
       "    .dataframe tbody tr th {\n",
       "        vertical-align: top;\n",
       "    }\n",
       "\n",
       "    .dataframe thead th {\n",
       "        text-align: right;\n",
       "    }\n",
       "</style>\n",
       "<table border=\"1\" class=\"dataframe\">\n",
       "  <thead>\n",
       "    <tr style=\"text-align: right;\">\n",
       "      <th></th>\n",
       "      <th>name</th>\n",
       "      <th>market</th>\n",
       "      <th>funding_total_usd</th>\n",
       "      <th>country_code</th>\n",
       "      <th>state_code</th>\n",
       "      <th>city</th>\n",
       "      <th>funding_rounds</th>\n",
       "      <th>founded_at</th>\n",
       "      <th>first_funding_at</th>\n",
       "      <th>last_funding_at</th>\n",
       "      <th>status</th>\n",
       "    </tr>\n",
       "  </thead>\n",
       "  <tbody>\n",
       "    <tr>\n",
       "      <th>0</th>\n",
       "      <td>Verizon Communications</td>\n",
       "      <td>Mobile</td>\n",
       "      <td>30079503000</td>\n",
       "      <td>USA</td>\n",
       "      <td>NY</td>\n",
       "      <td>New York</td>\n",
       "      <td>5</td>\n",
       "      <td>2015-04-19</td>\n",
       "      <td>2010-01-26</td>\n",
       "      <td>2014-02-28</td>\n",
       "      <td>ipo</td>\n",
       "    </tr>\n",
       "    <tr>\n",
       "      <th>1</th>\n",
       "      <td>Uber</td>\n",
       "      <td>Real Time</td>\n",
       "      <td>7007450000</td>\n",
       "      <td>USA</td>\n",
       "      <td>CA</td>\n",
       "      <td>San Francisco</td>\n",
       "      <td>12</td>\n",
       "      <td>NaN</td>\n",
       "      <td>2009-08-01</td>\n",
       "      <td>2015-08-19</td>\n",
       "      <td>operating</td>\n",
       "    </tr>\n",
       "    <tr>\n",
       "      <th>2</th>\n",
       "      <td>Sberbank</td>\n",
       "      <td>Finance</td>\n",
       "      <td>5800000000</td>\n",
       "      <td>RUS</td>\n",
       "      <td>NaN</td>\n",
       "      <td>Moscow</td>\n",
       "      <td>1</td>\n",
       "      <td>2014-04-01</td>\n",
       "      <td>2014-07-07</td>\n",
       "      <td>2014-07-07</td>\n",
       "      <td>ipo</td>\n",
       "    </tr>\n",
       "    <tr>\n",
       "      <th>3</th>\n",
       "      <td>Clearwire</td>\n",
       "      <td>Mobile</td>\n",
       "      <td>5720000000</td>\n",
       "      <td>USA</td>\n",
       "      <td>WA</td>\n",
       "      <td>Kirkland</td>\n",
       "      <td>5</td>\n",
       "      <td>2012-06-01</td>\n",
       "      <td>2001-12-11</td>\n",
       "      <td>2013-02-27</td>\n",
       "      <td>acquired</td>\n",
       "    </tr>\n",
       "    <tr>\n",
       "      <th>4</th>\n",
       "      <td>Charter Communications</td>\n",
       "      <td>Telecommunications</td>\n",
       "      <td>5162513431</td>\n",
       "      <td>USA</td>\n",
       "      <td>CT</td>\n",
       "      <td>Stamford</td>\n",
       "      <td>2</td>\n",
       "      <td>NaN</td>\n",
       "      <td>2009-11-21</td>\n",
       "      <td>2014-09-15</td>\n",
       "      <td>ipo</td>\n",
       "    </tr>\n",
       "  </tbody>\n",
       "</table>\n",
       "</div>"
      ],
      "text/plain": [
       "                     name              market  funding_total_usd country_code  \\\n",
       "0  Verizon Communications              Mobile        30079503000          USA   \n",
       "1                    Uber           Real Time         7007450000          USA   \n",
       "2                Sberbank             Finance         5800000000          RUS   \n",
       "3               Clearwire              Mobile         5720000000          USA   \n",
       "4  Charter Communications  Telecommunications         5162513431          USA   \n",
       "\n",
       "  state_code           city  funding_rounds  founded_at first_funding_at  \\\n",
       "0         NY       New York               5  2015-04-19       2010-01-26   \n",
       "1         CA  San Francisco              12         NaN       2009-08-01   \n",
       "2        NaN         Moscow               1  2014-04-01       2014-07-07   \n",
       "3         WA       Kirkland               5  2012-06-01       2001-12-11   \n",
       "4         CT       Stamford               2         NaN       2009-11-21   \n",
       "\n",
       "  last_funding_at     status  \n",
       "0      2014-02-28        ipo  \n",
       "1      2015-08-19  operating  \n",
       "2      2014-07-07        ipo  \n",
       "3      2013-02-27   acquired  \n",
       "4      2014-09-15        ipo  "
      ]
     },
     "execution_count": 7,
     "metadata": {},
     "output_type": "execute_result"
    }
   ],
   "source": [
    "# Re-odering columns\n",
    "data = data[['name', 'market', 'funding_total_usd', 'country_code',\n",
    "       'state_code', 'city', 'funding_rounds', 'founded_at',\n",
    "       'first_funding_at', 'last_funding_at', 'status']]\n",
    "\n",
    "data.head(5)"
   ]
  },
  {
   "cell_type": "markdown",
   "id": "b274447c",
   "metadata": {},
   "source": [
    "<B>Numeric Columns"
   ]
  },
  {
   "cell_type": "code",
   "execution_count": 8,
   "id": "99b86439",
   "metadata": {},
   "outputs": [],
   "source": [
    "num_col = ['funding_total_usd', 'funding_rounds']\n",
    "\n",
    "cat_col = ['name', 'market', 'status', 'country_code', 'state_code', 'city', 'founded_at', 'first_funding_at', 'last_funding_at']"
   ]
  },
  {
   "cell_type": "markdown",
   "id": "f39cdb35",
   "metadata": {},
   "source": [
    "<b>Target Column: \"Status\"\n",
    "    \n",
    "    The target variable, if a startup is ‘acquired’ by some other organization, means the startup succeed"
   ]
  },
  {
   "cell_type": "code",
   "execution_count": 9,
   "id": "ed65446f",
   "metadata": {},
   "outputs": [
    {
     "data": {
      "text/plain": [
       "4"
      ]
     },
     "execution_count": 9,
     "metadata": {},
     "output_type": "execute_result"
    }
   ],
   "source": [
    "data.status.nunique()"
   ]
  },
  {
   "cell_type": "code",
   "execution_count": 10,
   "id": "5b6505db",
   "metadata": {},
   "outputs": [
    {
     "data": {
      "text/plain": [
       "0        0\n",
       "1        0\n",
       "2        0\n",
       "3        1\n",
       "4        0\n",
       "        ..\n",
       "61393    0\n",
       "61394    0\n",
       "61395    0\n",
       "61396    0\n",
       "61397    0\n",
       "Name: status, Length: 61398, dtype: int64"
      ]
     },
     "execution_count": 10,
     "metadata": {},
     "output_type": "execute_result"
    }
   ],
   "source": [
    "# Changing values of target column\n",
    "data['status'] = data.status.map({'acquired':1, 'operating':0 ,'ipo':0, 'closed':0})\n",
    "\n",
    "# Changing data type of target column as: int\n",
    "data['status'].astype(int)"
   ]
  },
  {
   "cell_type": "markdown",
   "id": "c336791b",
   "metadata": {},
   "source": [
    "## Exploratory Data Analysis and Developing Insights with Data Visualization:"
   ]
  },
  {
   "cell_type": "markdown",
   "id": "98fac40c",
   "metadata": {},
   "source": [
    "<b> Statistical Summary"
   ]
  },
  {
   "cell_type": "code",
   "execution_count": 11,
   "id": "8081ceff",
   "metadata": {},
   "outputs": [
    {
     "data": {
      "text/html": [
       "<div>\n",
       "<style scoped>\n",
       "    .dataframe tbody tr th:only-of-type {\n",
       "        vertical-align: middle;\n",
       "    }\n",
       "\n",
       "    .dataframe tbody tr th {\n",
       "        vertical-align: top;\n",
       "    }\n",
       "\n",
       "    .dataframe thead th {\n",
       "        text-align: right;\n",
       "    }\n",
       "</style>\n",
       "<table border=\"1\" class=\"dataframe\">\n",
       "  <thead>\n",
       "    <tr style=\"text-align: right;\">\n",
       "      <th></th>\n",
       "      <th>funding_total_usd</th>\n",
       "      <th>funding_rounds</th>\n",
       "      <th>status</th>\n",
       "    </tr>\n",
       "  </thead>\n",
       "  <tbody>\n",
       "    <tr>\n",
       "      <th>count</th>\n",
       "      <td>6.139800e+04</td>\n",
       "      <td>61398.000000</td>\n",
       "      <td>61398.000000</td>\n",
       "    </tr>\n",
       "    <tr>\n",
       "      <th>mean</th>\n",
       "      <td>1.387271e+07</td>\n",
       "      <td>1.715854</td>\n",
       "      <td>0.078911</td>\n",
       "    </tr>\n",
       "    <tr>\n",
       "      <th>std</th>\n",
       "      <td>1.498299e+08</td>\n",
       "      <td>1.329826</td>\n",
       "      <td>0.269603</td>\n",
       "    </tr>\n",
       "    <tr>\n",
       "      <th>min</th>\n",
       "      <td>0.000000e+00</td>\n",
       "      <td>1.000000</td>\n",
       "      <td>0.000000</td>\n",
       "    </tr>\n",
       "    <tr>\n",
       "      <th>25%</th>\n",
       "      <td>4.000000e+04</td>\n",
       "      <td>1.000000</td>\n",
       "      <td>0.000000</td>\n",
       "    </tr>\n",
       "    <tr>\n",
       "      <th>50%</th>\n",
       "      <td>9.535530e+05</td>\n",
       "      <td>1.000000</td>\n",
       "      <td>0.000000</td>\n",
       "    </tr>\n",
       "    <tr>\n",
       "      <th>75%</th>\n",
       "      <td>6.314039e+06</td>\n",
       "      <td>2.000000</td>\n",
       "      <td>0.000000</td>\n",
       "    </tr>\n",
       "    <tr>\n",
       "      <th>max</th>\n",
       "      <td>3.007950e+10</td>\n",
       "      <td>19.000000</td>\n",
       "      <td>1.000000</td>\n",
       "    </tr>\n",
       "  </tbody>\n",
       "</table>\n",
       "</div>"
      ],
      "text/plain": [
       "       funding_total_usd  funding_rounds        status\n",
       "count       6.139800e+04    61398.000000  61398.000000\n",
       "mean        1.387271e+07        1.715854      0.078911\n",
       "std         1.498299e+08        1.329826      0.269603\n",
       "min         0.000000e+00        1.000000      0.000000\n",
       "25%         4.000000e+04        1.000000      0.000000\n",
       "50%         9.535530e+05        1.000000      0.000000\n",
       "75%         6.314039e+06        2.000000      0.000000\n",
       "max         3.007950e+10       19.000000      1.000000"
      ]
     },
     "execution_count": 11,
     "metadata": {},
     "output_type": "execute_result"
    }
   ],
   "source": [
    "data.describe()"
   ]
  },
  {
   "cell_type": "markdown",
   "id": "d08c4c92",
   "metadata": {},
   "source": [
    "<B>Missing Values"
   ]
  },
  {
   "cell_type": "code",
   "execution_count": 12,
   "id": "d0ebe8cb",
   "metadata": {},
   "outputs": [
    {
     "data": {
      "text/html": [
       "<style type=\"text/css\">\n",
       "#T_579a4_row0_col0, #T_579a4_row0_col1, #T_579a4_row6_col0, #T_579a4_row6_col1 {\n",
       "  background-color: #453581;\n",
       "  color: #f1f1f1;\n",
       "}\n",
       "#T_579a4_row1_col0, #T_579a4_row1_col1 {\n",
       "  background-color: #3c4f8a;\n",
       "  color: #f1f1f1;\n",
       "}\n",
       "#T_579a4_row2_col0, #T_579a4_row2_col1 {\n",
       "  background-color: #31678e;\n",
       "  color: #f1f1f1;\n",
       "}\n",
       "#T_579a4_row3_col0, #T_579a4_row3_col1 {\n",
       "  background-color: #cde11d;\n",
       "  color: #000000;\n",
       "}\n",
       "#T_579a4_row4_col0, #T_579a4_row4_col1 {\n",
       "  background-color: #2e6f8e;\n",
       "  color: #f1f1f1;\n",
       "}\n",
       "#T_579a4_row5_col0, #T_579a4_row5_col1 {\n",
       "  background-color: #21a585;\n",
       "  color: #f1f1f1;\n",
       "}\n",
       "</style>\n",
       "<table id=\"T_579a4\">\n",
       "  <thead>\n",
       "    <tr>\n",
       "      <th class=\"blank level0\" >&nbsp;</th>\n",
       "      <th id=\"T_579a4_level0_col0\" class=\"col_heading level0 col0\" >Null Values</th>\n",
       "      <th id=\"T_579a4_level0_col1\" class=\"col_heading level0 col1\" >% Missing Values</th>\n",
       "    </tr>\n",
       "  </thead>\n",
       "  <tbody>\n",
       "    <tr>\n",
       "      <th id=\"T_579a4_level0_row0\" class=\"row_heading level0 row0\" >name</th>\n",
       "      <td id=\"T_579a4_row0_col0\" class=\"data row0 col0\" >1</td>\n",
       "      <td id=\"T_579a4_row0_col1\" class=\"data row0 col1\" >0.001629</td>\n",
       "    </tr>\n",
       "    <tr>\n",
       "      <th id=\"T_579a4_level0_row1\" class=\"row_heading level0 row1\" >market</th>\n",
       "      <td id=\"T_579a4_row1_col0\" class=\"data row1 col0\" >2757</td>\n",
       "      <td id=\"T_579a4_row1_col1\" class=\"data row1 col1\" >4.490374</td>\n",
       "    </tr>\n",
       "    <tr>\n",
       "      <th id=\"T_579a4_level0_row2\" class=\"row_heading level0 row2\" >country_code</th>\n",
       "      <td id=\"T_579a4_row2_col0\" class=\"data row2 col0\" >5512</td>\n",
       "      <td id=\"T_579a4_row2_col1\" class=\"data row2 col1\" >8.977491</td>\n",
       "    </tr>\n",
       "    <tr>\n",
       "      <th id=\"T_579a4_level0_row3\" class=\"row_heading level0 row3\" >state_code</th>\n",
       "      <td id=\"T_579a4_row3_col0\" class=\"data row3 col0\" >24174</td>\n",
       "      <td id=\"T_579a4_row3_col1\" class=\"data row3 col1\" >39.372618</td>\n",
       "    </tr>\n",
       "    <tr>\n",
       "      <th id=\"T_579a4_level0_row4\" class=\"row_heading level0 row4\" >city</th>\n",
       "      <td id=\"T_579a4_row4_col0\" class=\"data row4 col0\" >6517</td>\n",
       "      <td id=\"T_579a4_row4_col1\" class=\"data row4 col1\" >10.614352</td>\n",
       "    </tr>\n",
       "    <tr>\n",
       "      <th id=\"T_579a4_level0_row5\" class=\"row_heading level0 row5\" >founded_at</th>\n",
       "      <td id=\"T_579a4_row5_col0\" class=\"data row5 col0\" >13609</td>\n",
       "      <td id=\"T_579a4_row5_col1\" class=\"data row5 col1\" >22.165217</td>\n",
       "    </tr>\n",
       "    <tr>\n",
       "      <th id=\"T_579a4_level0_row6\" class=\"row_heading level0 row6\" >first_funding_at</th>\n",
       "      <td id=\"T_579a4_row6_col0\" class=\"data row6 col0\" >13</td>\n",
       "      <td id=\"T_579a4_row6_col1\" class=\"data row6 col1\" >0.021173</td>\n",
       "    </tr>\n",
       "  </tbody>\n",
       "</table>\n"
      ],
      "text/plain": [
       "<pandas.io.formats.style.Styler at 0x15009e550>"
      ]
     },
     "execution_count": 12,
     "metadata": {},
     "output_type": "execute_result"
    }
   ],
   "source": [
    "null=pd.DataFrame(data.isnull().sum(),columns=[\"Null Values\"])\n",
    "null[\"% Missing Values\"]=(data.isna().sum()/len(data)*100)\n",
    "null = null[null[\"% Missing Values\"] > 0]\n",
    "null.style.background_gradient(cmap='viridis',low =0.2,high=0.1)"
   ]
  },
  {
   "cell_type": "code",
   "execution_count": 13,
   "id": "69867c8f",
   "metadata": {},
   "outputs": [
    {
     "name": "stdout",
     "output_type": "stream",
     "text": [
      "                              name                market status country_code  \\\n",
      "0           Verizon Communications                Mobile      0          USA   \n",
      "1                             Uber             Real Time      0          USA   \n",
      "2                         Sberbank               Finance      0          RUS   \n",
      "3                        Clearwire                Mobile      1          USA   \n",
      "4           Charter Communications    Telecommunications      0          USA   \n",
      "...                            ...                   ...    ...          ...   \n",
      "61393                   Zymr, Inc.  Cloud Infrastructure      0          USA   \n",
      "61394  Zynergy Projects & Services      Clean Technology      0          IND   \n",
      "61395                         Zype                 Video      0          USA   \n",
      "61396                        [24]7  Predictive Analytics      0          USA   \n",
      "61397                ??? ChiShenMa           Restaurants      0          CHN   \n",
      "\n",
      "      state_code           city  founded_at first_funding_at last_funding_at  \n",
      "0             NY       New York  2015-04-19       2010-01-26      2014-02-28  \n",
      "1             CA  San Francisco  2012-01-01       2009-08-01      2015-08-19  \n",
      "2             CA         Moscow  2014-04-01       2014-07-07      2014-07-07  \n",
      "3             WA       Kirkland  2012-06-01       2001-12-11      2013-02-27  \n",
      "4             CT       Stamford  2012-01-01       2009-11-21      2014-09-15  \n",
      "...          ...            ...         ...              ...             ...  \n",
      "61393         CA    Santa Clara  1999-01-01       2012-12-12      2014-01-01  \n",
      "61394         CA        Chennai  2006-01-01       2015-08-19      2015-08-19  \n",
      "61395         NY       New York  2013-01-01       2015-04-01      2015-04-01  \n",
      "61396         CA       Campbell  2012-01-01       2003-07-01      2003-07-01  \n",
      "61397         CA       Shanghai  2014-01-01       2014-05-25      2014-05-25  \n",
      "\n",
      "[61398 rows x 9 columns]\n"
     ]
    }
   ],
   "source": [
    "from sklearn.impute import SimpleImputer\n",
    "imp = SimpleImputer(missing_values=np.nan, strategy='most_frequent')\n",
    "print(pd.DataFrame(imp.fit_transform(data[['name', 'market', 'status', 'country_code', 'state_code', 'city', 'founded_at', 'first_funding_at', 'last_funding_at']]),\n",
    "                   columns=cat_col,\n",
    "                   index=data.index))"
   ]
  },
  {
   "cell_type": "code",
   "execution_count": 14,
   "id": "9e032a7a",
   "metadata": {},
   "outputs": [
    {
     "name": "stdout",
     "output_type": "stream",
     "text": [
      "       funding_total_usd  funding_rounds\n",
      "0           3.007950e+10             5.0\n",
      "1           7.007450e+09            12.0\n",
      "2           5.800000e+09             1.0\n",
      "3           5.720000e+09             5.0\n",
      "4           5.162513e+09             2.0\n",
      "...                  ...             ...\n",
      "61393       0.000000e+00             3.0\n",
      "61394       0.000000e+00             1.0\n",
      "61395       0.000000e+00             1.0\n",
      "61396       0.000000e+00             1.0\n",
      "61397       0.000000e+00             1.0\n",
      "\n",
      "[61398 rows x 2 columns]\n"
     ]
    }
   ],
   "source": [
    "imp = SimpleImputer(missing_values=np.nan, strategy='mean')\n",
    "print(pd.DataFrame(imp.fit_transform(data[['funding_total_usd', 'funding_rounds']]),\n",
    "                   columns=num_col,\n",
    "                   index=data.index))"
   ]
  },
  {
   "cell_type": "markdown",
   "id": "2bf4ca5d",
   "metadata": {},
   "source": [
    "<B>Correlation Heatmap"
   ]
  },
  {
   "cell_type": "code",
   "execution_count": 15,
   "id": "6fe4db5e",
   "metadata": {},
   "outputs": [],
   "source": [
    "# Lable encoding data\n",
    "from sklearn import preprocessing\n",
    "from sklearn.preprocessing import LabelEncoder\n",
    "data = data.apply(LabelEncoder().fit_transform)"
   ]
  },
  {
   "cell_type": "code",
   "execution_count": 16,
   "id": "f2986351",
   "metadata": {},
   "outputs": [
    {
     "data": {
      "text/html": [
       "<div>\n",
       "<style scoped>\n",
       "    .dataframe tbody tr th:only-of-type {\n",
       "        vertical-align: middle;\n",
       "    }\n",
       "\n",
       "    .dataframe tbody tr th {\n",
       "        vertical-align: top;\n",
       "    }\n",
       "\n",
       "    .dataframe thead th {\n",
       "        text-align: right;\n",
       "    }\n",
       "</style>\n",
       "<table border=\"1\" class=\"dataframe\">\n",
       "  <thead>\n",
       "    <tr style=\"text-align: right;\">\n",
       "      <th></th>\n",
       "      <th>name</th>\n",
       "      <th>market</th>\n",
       "      <th>funding_total_usd</th>\n",
       "      <th>country_code</th>\n",
       "      <th>state_code</th>\n",
       "      <th>city</th>\n",
       "      <th>funding_rounds</th>\n",
       "      <th>founded_at</th>\n",
       "      <th>first_funding_at</th>\n",
       "      <th>last_funding_at</th>\n",
       "      <th>status</th>\n",
       "    </tr>\n",
       "  </thead>\n",
       "  <tbody>\n",
       "    <tr>\n",
       "      <th>name</th>\n",
       "      <td>1.000000</td>\n",
       "      <td>0.034913</td>\n",
       "      <td>-0.030722</td>\n",
       "      <td>-0.029301</td>\n",
       "      <td>0.031589</td>\n",
       "      <td>0.006910</td>\n",
       "      <td>-0.004532</td>\n",
       "      <td>-0.004763</td>\n",
       "      <td>0.008035</td>\n",
       "      <td>0.004028</td>\n",
       "      <td>-0.000425</td>\n",
       "    </tr>\n",
       "    <tr>\n",
       "      <th>market</th>\n",
       "      <td>0.034913</td>\n",
       "      <td>1.000000</td>\n",
       "      <td>-0.116139</td>\n",
       "      <td>0.013429</td>\n",
       "      <td>0.060261</td>\n",
       "      <td>0.050475</td>\n",
       "      <td>-0.086485</td>\n",
       "      <td>-0.003977</td>\n",
       "      <td>-0.016181</td>\n",
       "      <td>-0.066467</td>\n",
       "      <td>0.018279</td>\n",
       "    </tr>\n",
       "    <tr>\n",
       "      <th>funding_total_usd</th>\n",
       "      <td>-0.030722</td>\n",
       "      <td>-0.116139</td>\n",
       "      <td>1.000000</td>\n",
       "      <td>0.050057</td>\n",
       "      <td>-0.169689</td>\n",
       "      <td>-0.062332</td>\n",
       "      <td>0.490825</td>\n",
       "      <td>-0.018435</td>\n",
       "      <td>-0.345347</td>\n",
       "      <td>-0.063958</td>\n",
       "      <td>0.178460</td>\n",
       "    </tr>\n",
       "    <tr>\n",
       "      <th>country_code</th>\n",
       "      <td>-0.029301</td>\n",
       "      <td>0.013429</td>\n",
       "      <td>0.050057</td>\n",
       "      <td>1.000000</td>\n",
       "      <td>-0.509765</td>\n",
       "      <td>0.113712</td>\n",
       "      <td>0.067492</td>\n",
       "      <td>-0.000523</td>\n",
       "      <td>-0.036731</td>\n",
       "      <td>-0.008843</td>\n",
       "      <td>0.064114</td>\n",
       "    </tr>\n",
       "    <tr>\n",
       "      <th>state_code</th>\n",
       "      <td>0.031589</td>\n",
       "      <td>0.060261</td>\n",
       "      <td>-0.169689</td>\n",
       "      <td>-0.509765</td>\n",
       "      <td>1.000000</td>\n",
       "      <td>0.063262</td>\n",
       "      <td>-0.139650</td>\n",
       "      <td>0.005477</td>\n",
       "      <td>0.089885</td>\n",
       "      <td>0.022770</td>\n",
       "      <td>-0.105155</td>\n",
       "    </tr>\n",
       "    <tr>\n",
       "      <th>city</th>\n",
       "      <td>0.006910</td>\n",
       "      <td>0.050475</td>\n",
       "      <td>-0.062332</td>\n",
       "      <td>0.113712</td>\n",
       "      <td>0.063262</td>\n",
       "      <td>1.000000</td>\n",
       "      <td>-0.051188</td>\n",
       "      <td>-0.000419</td>\n",
       "      <td>0.023278</td>\n",
       "      <td>-0.005106</td>\n",
       "      <td>-0.004756</td>\n",
       "    </tr>\n",
       "    <tr>\n",
       "      <th>funding_rounds</th>\n",
       "      <td>-0.004532</td>\n",
       "      <td>-0.086485</td>\n",
       "      <td>0.490825</td>\n",
       "      <td>0.067492</td>\n",
       "      <td>-0.139650</td>\n",
       "      <td>-0.051188</td>\n",
       "      <td>1.000000</td>\n",
       "      <td>-0.010530</td>\n",
       "      <td>-0.277562</td>\n",
       "      <td>0.180883</td>\n",
       "      <td>0.075050</td>\n",
       "    </tr>\n",
       "    <tr>\n",
       "      <th>founded_at</th>\n",
       "      <td>-0.004763</td>\n",
       "      <td>-0.003977</td>\n",
       "      <td>-0.018435</td>\n",
       "      <td>-0.000523</td>\n",
       "      <td>0.005477</td>\n",
       "      <td>-0.000419</td>\n",
       "      <td>-0.010530</td>\n",
       "      <td>1.000000</td>\n",
       "      <td>0.011125</td>\n",
       "      <td>0.002918</td>\n",
       "      <td>-0.008292</td>\n",
       "    </tr>\n",
       "    <tr>\n",
       "      <th>first_funding_at</th>\n",
       "      <td>0.008035</td>\n",
       "      <td>-0.016181</td>\n",
       "      <td>-0.345347</td>\n",
       "      <td>-0.036731</td>\n",
       "      <td>0.089885</td>\n",
       "      <td>0.023278</td>\n",
       "      <td>-0.277562</td>\n",
       "      <td>0.011125</td>\n",
       "      <td>1.000000</td>\n",
       "      <td>0.834922</td>\n",
       "      <td>-0.316010</td>\n",
       "    </tr>\n",
       "    <tr>\n",
       "      <th>last_funding_at</th>\n",
       "      <td>0.004028</td>\n",
       "      <td>-0.066467</td>\n",
       "      <td>-0.063958</td>\n",
       "      <td>-0.008843</td>\n",
       "      <td>0.022770</td>\n",
       "      <td>-0.005106</td>\n",
       "      <td>0.180883</td>\n",
       "      <td>0.002918</td>\n",
       "      <td>0.834922</td>\n",
       "      <td>1.000000</td>\n",
       "      <td>-0.293385</td>\n",
       "    </tr>\n",
       "    <tr>\n",
       "      <th>status</th>\n",
       "      <td>-0.000425</td>\n",
       "      <td>0.018279</td>\n",
       "      <td>0.178460</td>\n",
       "      <td>0.064114</td>\n",
       "      <td>-0.105155</td>\n",
       "      <td>-0.004756</td>\n",
       "      <td>0.075050</td>\n",
       "      <td>-0.008292</td>\n",
       "      <td>-0.316010</td>\n",
       "      <td>-0.293385</td>\n",
       "      <td>1.000000</td>\n",
       "    </tr>\n",
       "  </tbody>\n",
       "</table>\n",
       "</div>"
      ],
      "text/plain": [
       "                       name    market  funding_total_usd  country_code  \\\n",
       "name               1.000000  0.034913          -0.030722     -0.029301   \n",
       "market             0.034913  1.000000          -0.116139      0.013429   \n",
       "funding_total_usd -0.030722 -0.116139           1.000000      0.050057   \n",
       "country_code      -0.029301  0.013429           0.050057      1.000000   \n",
       "state_code         0.031589  0.060261          -0.169689     -0.509765   \n",
       "city               0.006910  0.050475          -0.062332      0.113712   \n",
       "funding_rounds    -0.004532 -0.086485           0.490825      0.067492   \n",
       "founded_at        -0.004763 -0.003977          -0.018435     -0.000523   \n",
       "first_funding_at   0.008035 -0.016181          -0.345347     -0.036731   \n",
       "last_funding_at    0.004028 -0.066467          -0.063958     -0.008843   \n",
       "status            -0.000425  0.018279           0.178460      0.064114   \n",
       "\n",
       "                   state_code      city  funding_rounds  founded_at  \\\n",
       "name                 0.031589  0.006910       -0.004532   -0.004763   \n",
       "market               0.060261  0.050475       -0.086485   -0.003977   \n",
       "funding_total_usd   -0.169689 -0.062332        0.490825   -0.018435   \n",
       "country_code        -0.509765  0.113712        0.067492   -0.000523   \n",
       "state_code           1.000000  0.063262       -0.139650    0.005477   \n",
       "city                 0.063262  1.000000       -0.051188   -0.000419   \n",
       "funding_rounds      -0.139650 -0.051188        1.000000   -0.010530   \n",
       "founded_at           0.005477 -0.000419       -0.010530    1.000000   \n",
       "first_funding_at     0.089885  0.023278       -0.277562    0.011125   \n",
       "last_funding_at      0.022770 -0.005106        0.180883    0.002918   \n",
       "status              -0.105155 -0.004756        0.075050   -0.008292   \n",
       "\n",
       "                   first_funding_at  last_funding_at    status  \n",
       "name                       0.008035         0.004028 -0.000425  \n",
       "market                    -0.016181        -0.066467  0.018279  \n",
       "funding_total_usd         -0.345347        -0.063958  0.178460  \n",
       "country_code              -0.036731        -0.008843  0.064114  \n",
       "state_code                 0.089885         0.022770 -0.105155  \n",
       "city                       0.023278        -0.005106 -0.004756  \n",
       "funding_rounds            -0.277562         0.180883  0.075050  \n",
       "founded_at                 0.011125         0.002918 -0.008292  \n",
       "first_funding_at           1.000000         0.834922 -0.316010  \n",
       "last_funding_at            0.834922         1.000000 -0.293385  \n",
       "status                    -0.316010        -0.293385  1.000000  "
      ]
     },
     "execution_count": 16,
     "metadata": {},
     "output_type": "execute_result"
    }
   ],
   "source": [
    "data.corr()"
   ]
  },
  {
   "cell_type": "code",
   "execution_count": 17,
   "id": "e92988d6",
   "metadata": {},
   "outputs": [
    {
     "data": {
      "text/plain": [
       "(11.5, -0.5)"
      ]
     },
     "execution_count": 17,
     "metadata": {},
     "output_type": "execute_result"
    },
    {
     "data": {
      "image/png": "[encoded data removed]",
      "text/plain": [
       "<Figure size 2160x1440 with 2 Axes>"
      ]
     },
     "metadata": {
      "needs_background": "light"
     },
     "output_type": "display_data"
    }
   ],
   "source": [
    "plt.figure(figsize=(30,20))\n",
    "ax = sns.heatmap(data = data.corr(),cmap='PiYG',annot=True)\n",
    "\n",
    "bottom, top = ax.get_ylim()\n",
    "ax.set_ylim(bottom + 0.5,top - 0.5)"
   ]
  },
  {
   "cell_type": "markdown",
   "id": "3799129d",
   "metadata": {},
   "source": [
    "<b> Scatter Plot"
   ]
  },
  {
   "cell_type": "code",
   "execution_count": 18,
   "id": "dc4f1f1b",
   "metadata": {},
   "outputs": [
    {
     "data": {
      "image/png": "[encoded data removed]",
      "text/plain": [
       "<Figure size 432x288 with 1 Axes>"
      ]
     },
     "metadata": {
      "needs_background": "light"
     },
     "output_type": "display_data"
    }
   ],
   "source": [
    "fig, ax = plt.subplots()\n",
    "_ = plt.scatter(x=data['funding_rounds'], y=data['funding_total_usd'], edgecolors='#7eb54e', linewidths= 0.5)\n",
    "_ = ax.set(xlabel=\"funding_rounds\", ylabel=\"funding_total_usd\")"
   ]
  },
  {
   "cell_type": "markdown",
   "id": "8e2232b9",
   "metadata": {},
   "source": [
    "<b>How many Startup are acquired or closed"
   ]
  },
  {
   "cell_type": "code",
   "execution_count": 19,
   "id": "6a9b67aa",
   "metadata": {
    "scrolled": false
   },
   "outputs": [
    {
     "data": {
      "text/plain": [
       "(4845, 11)"
      ]
     },
     "execution_count": 19,
     "metadata": {},
     "output_type": "execute_result"
    }
   ],
   "source": [
    "data_acquired = data[(data[\"status\"] == True)]\n",
    "data_acquired.shape"
   ]
  },
  {
   "cell_type": "code",
   "execution_count": 20,
   "id": "eaa4c035",
   "metadata": {},
   "outputs": [
    {
     "data": {
      "text/plain": [
       "(56553, 11)"
      ]
     },
     "execution_count": 20,
     "metadata": {},
     "output_type": "execute_result"
    }
   ],
   "source": [
    "data_closed = data[(data[\"status\"] == False)]\n",
    "data_closed.shape"
   ]
  },
  {
   "cell_type": "code",
   "execution_count": 21,
   "id": "bb557978",
   "metadata": {},
   "outputs": [
    {
     "data": {
      "image/png": "[encoded data removed]",
      "text/plain": [
       "<Figure size 432x288 with 1 Axes>"
      ]
     },
     "metadata": {},
     "output_type": "display_data"
    }
   ],
   "source": [
    "value_counts = data[\"status\"].value_counts().to_dict()\n",
    "fig, ax = plt.subplots()\n",
    "_ = ax.pie(x=[value_counts[False], value_counts[True]], labels=['No', 'Yes'], \n",
    "           colors=['#003f5c', '#ffa600'], textprops={'color': '#040204'})\n",
    "_ = ax.axis('equal')\n",
    "_ = ax.set_title('Startup Acquired')"
   ]
  },
  {
   "cell_type": "markdown",
   "id": "02ae4733",
   "metadata": {},
   "source": [
    "<b>Which market has the largest number of startup"
   ]
  },
  {
   "cell_type": "code",
   "execution_count": 22,
   "id": "30d22991",
   "metadata": {},
   "outputs": [
    {
     "data": {
      "text/plain": [
       "<matplotlib.legend.Legend at 0x15109f8e0>"
      ]
     },
     "execution_count": 22,
     "metadata": {},
     "output_type": "execute_result"
    },
    {
     "data": {
      "image/png": "[encoded data removed]",
      "text/plain": [
       "<Figure size 864x576 with 1 Axes>"
      ]
     },
     "metadata": {
      "needs_background": "light"
     },
     "output_type": "display_data"
    }
   ],
   "source": [
    "\n",
    "fig, ax = plt.subplots(figsize=(12,8))\n",
    "\n",
    "_ = sns.countplot(x=\"market\", hue=\"status\", data=data, palette=\"nipy_spectral\",\n",
    "              order=data.market.value_counts().iloc[:10].index)\n",
    "\n",
    "_ = ax.set_xticklabels(ax.get_xticklabels(), rotation=90)\n",
    "_ = ax.set(xlabel=\"market\", ylabel=\"No. of startup\")\n",
    "plt.legend(bbox_to_anchor=(0.945, 0.90))\n"
   ]
  },
  {
   "cell_type": "markdown",
   "id": "203ab1d8",
   "metadata": {},
   "source": [
    "<b>Which city has the largest number of startup"
   ]
  },
  {
   "cell_type": "code",
   "execution_count": 23,
   "id": "15b513d7",
   "metadata": {},
   "outputs": [
    {
     "data": {
      "text/plain": [
       "<matplotlib.legend.Legend at 0x151020610>"
      ]
     },
     "execution_count": 23,
     "metadata": {},
     "output_type": "execute_result"
    },
    {
     "data": {
      "image/png": "[encoded data removed]",
      "text/plain": [
       "<Figure size 864x576 with 1 Axes>"
      ]
     },
     "metadata": {
      "needs_background": "light"
     },
     "output_type": "display_data"
    }
   ],
   "source": [
    "fig, ax = plt.subplots(figsize=(12,8))\n",
    "\n",
    "_ = sns.countplot(x=\"city\", hue=\"status\", data=data, palette=\"nipy_spectral\",\n",
    "              order=data.city.value_counts().iloc[:10].index)\n",
    "\n",
    "_ = ax.set_xticklabels(ax.get_xticklabels(), rotation=90)\n",
    "_ = ax.set(xlabel=\"city\", ylabel=\"No. of startup\")\n",
    "plt.legend(bbox_to_anchor=(0.945, 0.90))"
   ]
  },
  {
   "cell_type": "markdown",
   "id": "e4007069",
   "metadata": {},
   "source": [
    "<b>Which Market has the largest number Success Rate"
   ]
  },
  {
   "cell_type": "code",
   "execution_count": 24,
   "id": "9b32e2e2",
   "metadata": {},
   "outputs": [
    {
     "data": {
      "text/html": [
       "<div>\n",
       "<style scoped>\n",
       "    .dataframe tbody tr th:only-of-type {\n",
       "        vertical-align: middle;\n",
       "    }\n",
       "\n",
       "    .dataframe tbody tr th {\n",
       "        vertical-align: top;\n",
       "    }\n",
       "\n",
       "    .dataframe thead th {\n",
       "        text-align: right;\n",
       "    }\n",
       "</style>\n",
       "<table border=\"1\" class=\"dataframe\">\n",
       "  <thead>\n",
       "    <tr style=\"text-align: right;\">\n",
       "      <th></th>\n",
       "      <th>market</th>\n",
       "      <th>total_success</th>\n",
       "      <th>total_closed</th>\n",
       "      <th>total_startup</th>\n",
       "      <th>success_rate</th>\n",
       "    </tr>\n",
       "  </thead>\n",
       "  <tbody>\n",
       "    <tr>\n",
       "      <th>378</th>\n",
       "      <td>776</td>\n",
       "      <td>1</td>\n",
       "      <td>1</td>\n",
       "      <td>2</td>\n",
       "      <td>50.00</td>\n",
       "    </tr>\n",
       "    <tr>\n",
       "      <th>87</th>\n",
       "      <td>180</td>\n",
       "      <td>1</td>\n",
       "      <td>1</td>\n",
       "      <td>2</td>\n",
       "      <td>50.00</td>\n",
       "    </tr>\n",
       "    <tr>\n",
       "      <th>88</th>\n",
       "      <td>183</td>\n",
       "      <td>1</td>\n",
       "      <td>1</td>\n",
       "      <td>2</td>\n",
       "      <td>50.00</td>\n",
       "    </tr>\n",
       "    <tr>\n",
       "      <th>364</th>\n",
       "      <td>755</td>\n",
       "      <td>2</td>\n",
       "      <td>3</td>\n",
       "      <td>5</td>\n",
       "      <td>40.00</td>\n",
       "    </tr>\n",
       "    <tr>\n",
       "      <th>188</th>\n",
       "      <td>409</td>\n",
       "      <td>3</td>\n",
       "      <td>5</td>\n",
       "      <td>8</td>\n",
       "      <td>37.50</td>\n",
       "    </tr>\n",
       "    <tr>\n",
       "      <th>...</th>\n",
       "      <td>...</td>\n",
       "      <td>...</td>\n",
       "      <td>...</td>\n",
       "      <td>...</td>\n",
       "      <td>...</td>\n",
       "    </tr>\n",
       "    <tr>\n",
       "      <th>202</th>\n",
       "      <td>433</td>\n",
       "      <td>4</td>\n",
       "      <td>283</td>\n",
       "      <td>287</td>\n",
       "      <td>1.39</td>\n",
       "    </tr>\n",
       "    <tr>\n",
       "      <th>252</th>\n",
       "      <td>537</td>\n",
       "      <td>1</td>\n",
       "      <td>72</td>\n",
       "      <td>73</td>\n",
       "      <td>1.37</td>\n",
       "    </tr>\n",
       "    <tr>\n",
       "      <th>111</th>\n",
       "      <td>232</td>\n",
       "      <td>1</td>\n",
       "      <td>106</td>\n",
       "      <td>107</td>\n",
       "      <td>0.93</td>\n",
       "    </tr>\n",
       "    <tr>\n",
       "      <th>120</th>\n",
       "      <td>254</td>\n",
       "      <td>1</td>\n",
       "      <td>123</td>\n",
       "      <td>124</td>\n",
       "      <td>0.81</td>\n",
       "    </tr>\n",
       "    <tr>\n",
       "      <th>67</th>\n",
       "      <td>137</td>\n",
       "      <td>1</td>\n",
       "      <td>140</td>\n",
       "      <td>141</td>\n",
       "      <td>0.71</td>\n",
       "    </tr>\n",
       "  </tbody>\n",
       "</table>\n",
       "<p>388 rows × 5 columns</p>\n",
       "</div>"
      ],
      "text/plain": [
       "     market  total_success  total_closed  total_startup  success_rate\n",
       "378     776              1             1              2         50.00\n",
       "87      180              1             1              2         50.00\n",
       "88      183              1             1              2         50.00\n",
       "364     755              2             3              5         40.00\n",
       "188     409              3             5              8         37.50\n",
       "..      ...            ...           ...            ...           ...\n",
       "202     433              4           283            287          1.39\n",
       "252     537              1            72             73          1.37\n",
       "111     232              1           106            107          0.93\n",
       "120     254              1           123            124          0.81\n",
       "67      137              1           140            141          0.71\n",
       "\n",
       "[388 rows x 5 columns]"
      ]
     },
     "execution_count": 24,
     "metadata": {},
     "output_type": "execute_result"
    }
   ],
   "source": [
    "data1 = data[data['status']==1].groupby(['market']).agg({'status':'count'}).reset_index()\n",
    "data1.columns=['market','total_success']\n",
    "\n",
    "data2 = data[data['status']==0].groupby(['market']).agg({'status':'count'}).reset_index()\n",
    "data2.columns=['market','total_closed']\n",
    "\n",
    "data3=data.groupby(['market']).agg({'status':'count'}).reset_index()\n",
    "data3.columns=['market','total_startup']\n",
    "\n",
    "data1= data1.merge(data2, on='market')\n",
    "data1= data1.merge(data3, on='market')\n",
    "\n",
    "data1['success_rate']= round((data1['total_success'] / data1['total_startup']) * 100,2)\n",
    "\n",
    "most_succes_rate = data1.sort_values('success_rate', ascending=False)\n",
    "most_succes_rate"
   ]
  },
  {
   "cell_type": "markdown",
   "id": "823f4042",
   "metadata": {},
   "source": [
    "<b>Which City has the largest number Success Rate"
   ]
  },
  {
   "cell_type": "code",
   "execution_count": 25,
   "id": "db79c50d",
   "metadata": {},
   "outputs": [
    {
     "data": {
      "text/html": [
       "<div>\n",
       "<style scoped>\n",
       "    .dataframe tbody tr th:only-of-type {\n",
       "        vertical-align: middle;\n",
       "    }\n",
       "\n",
       "    .dataframe tbody tr th {\n",
       "        vertical-align: top;\n",
       "    }\n",
       "\n",
       "    .dataframe thead th {\n",
       "        text-align: right;\n",
       "    }\n",
       "</style>\n",
       "<table border=\"1\" class=\"dataframe\">\n",
       "  <thead>\n",
       "    <tr style=\"text-align: right;\">\n",
       "      <th></th>\n",
       "      <th>city</th>\n",
       "      <th>total_success</th>\n",
       "      <th>total_closed</th>\n",
       "      <th>total_startup</th>\n",
       "      <th>success_rate</th>\n",
       "    </tr>\n",
       "  </thead>\n",
       "  <tbody>\n",
       "    <tr>\n",
       "      <th>327</th>\n",
       "      <td>2127</td>\n",
       "      <td>2</td>\n",
       "      <td>1</td>\n",
       "      <td>3</td>\n",
       "      <td>66.67</td>\n",
       "    </tr>\n",
       "    <tr>\n",
       "      <th>297</th>\n",
       "      <td>1875</td>\n",
       "      <td>2</td>\n",
       "      <td>1</td>\n",
       "      <td>3</td>\n",
       "      <td>66.67</td>\n",
       "    </tr>\n",
       "    <tr>\n",
       "      <th>733</th>\n",
       "      <td>4726</td>\n",
       "      <td>2</td>\n",
       "      <td>1</td>\n",
       "      <td>3</td>\n",
       "      <td>66.67</td>\n",
       "    </tr>\n",
       "    <tr>\n",
       "      <th>706</th>\n",
       "      <td>4604</td>\n",
       "      <td>2</td>\n",
       "      <td>1</td>\n",
       "      <td>3</td>\n",
       "      <td>66.67</td>\n",
       "    </tr>\n",
       "    <tr>\n",
       "      <th>12</th>\n",
       "      <td>65</td>\n",
       "      <td>2</td>\n",
       "      <td>1</td>\n",
       "      <td>3</td>\n",
       "      <td>66.67</td>\n",
       "    </tr>\n",
       "    <tr>\n",
       "      <th>...</th>\n",
       "      <td>...</td>\n",
       "      <td>...</td>\n",
       "      <td>...</td>\n",
       "      <td>...</td>\n",
       "      <td>...</td>\n",
       "    </tr>\n",
       "    <tr>\n",
       "      <th>304</th>\n",
       "      <td>1946</td>\n",
       "      <td>1</td>\n",
       "      <td>80</td>\n",
       "      <td>81</td>\n",
       "      <td>1.23</td>\n",
       "    </tr>\n",
       "    <tr>\n",
       "      <th>416</th>\n",
       "      <td>2681</td>\n",
       "      <td>1</td>\n",
       "      <td>86</td>\n",
       "      <td>87</td>\n",
       "      <td>1.15</td>\n",
       "    </tr>\n",
       "    <tr>\n",
       "      <th>632</th>\n",
       "      <td>3966</td>\n",
       "      <td>1</td>\n",
       "      <td>119</td>\n",
       "      <td>120</td>\n",
       "      <td>0.83</td>\n",
       "    </tr>\n",
       "    <tr>\n",
       "      <th>298</th>\n",
       "      <td>1885</td>\n",
       "      <td>1</td>\n",
       "      <td>143</td>\n",
       "      <td>144</td>\n",
       "      <td>0.69</td>\n",
       "    </tr>\n",
       "    <tr>\n",
       "      <th>471</th>\n",
       "      <td>2962</td>\n",
       "      <td>1</td>\n",
       "      <td>146</td>\n",
       "      <td>147</td>\n",
       "      <td>0.68</td>\n",
       "    </tr>\n",
       "  </tbody>\n",
       "</table>\n",
       "<p>759 rows × 5 columns</p>\n",
       "</div>"
      ],
      "text/plain": [
       "     city  total_success  total_closed  total_startup  success_rate\n",
       "327  2127              2             1              3         66.67\n",
       "297  1875              2             1              3         66.67\n",
       "733  4726              2             1              3         66.67\n",
       "706  4604              2             1              3         66.67\n",
       "12     65              2             1              3         66.67\n",
       "..    ...            ...           ...            ...           ...\n",
       "304  1946              1            80             81          1.23\n",
       "416  2681              1            86             87          1.15\n",
       "632  3966              1           119            120          0.83\n",
       "298  1885              1           143            144          0.69\n",
       "471  2962              1           146            147          0.68\n",
       "\n",
       "[759 rows x 5 columns]"
      ]
     },
     "execution_count": 25,
     "metadata": {},
     "output_type": "execute_result"
    }
   ],
   "source": [
    "data1 = data[data['status']==1].groupby(['city']).agg({'status':'count'}).reset_index()\n",
    "data1.columns=['city','total_success']\n",
    "\n",
    "data2 = data[data['status']==0].groupby(['city']).agg({'status':'count'}).reset_index()\n",
    "data2.columns=['city','total_closed']\n",
    "\n",
    "data3=data.groupby(['city']).agg({'status':'count'}).reset_index()\n",
    "data3.columns=['city','total_startup']\n",
    "\n",
    "data1= data1.merge(data2, on='city')\n",
    "data1= data1.merge(data3, on='city')\n",
    "\n",
    "data1['success_rate']= round((data1['total_success'] / data1['total_startup']) * 100,2)\n",
    "\n",
    "most_succes_rate = data1.sort_values('success_rate', ascending=False)\n",
    "most_succes_rate"
   ]
  },
  {
   "cell_type": "markdown",
   "id": "9b603813",
   "metadata": {},
   "source": [
    "<b><b>Which market having most number of total funding"
   ]
  },
  {
   "cell_type": "code",
   "execution_count": 26,
   "id": "a29dad40",
   "metadata": {},
   "outputs": [
    {
     "data": {
      "text/html": [
       "<div>\n",
       "<style scoped>\n",
       "    .dataframe tbody tr th:only-of-type {\n",
       "        vertical-align: middle;\n",
       "    }\n",
       "\n",
       "    .dataframe tbody tr th {\n",
       "        vertical-align: top;\n",
       "    }\n",
       "\n",
       "    .dataframe thead th {\n",
       "        text-align: right;\n",
       "    }\n",
       "</style>\n",
       "<table border=\"1\" class=\"dataframe\">\n",
       "  <thead>\n",
       "    <tr style=\"text-align: right;\">\n",
       "      <th></th>\n",
       "      <th>market</th>\n",
       "      <th>funding_total_usd</th>\n",
       "    </tr>\n",
       "  </thead>\n",
       "  <tbody>\n",
       "    <tr>\n",
       "      <th>65</th>\n",
       "      <td>65</td>\n",
       "      <td>40090346</td>\n",
       "    </tr>\n",
       "    <tr>\n",
       "      <th>667</th>\n",
       "      <td>667</td>\n",
       "      <td>38274871</td>\n",
       "    </tr>\n",
       "    <tr>\n",
       "      <th>450</th>\n",
       "      <td>450</td>\n",
       "      <td>15061855</td>\n",
       "    </tr>\n",
       "    <tr>\n",
       "      <th>209</th>\n",
       "      <td>209</td>\n",
       "      <td>12866656</td>\n",
       "    </tr>\n",
       "    <tr>\n",
       "      <th>246</th>\n",
       "      <td>246</td>\n",
       "      <td>12206401</td>\n",
       "    </tr>\n",
       "    <tr>\n",
       "      <th>104</th>\n",
       "      <td>104</td>\n",
       "      <td>11954250</td>\n",
       "    </tr>\n",
       "    <tr>\n",
       "      <th>324</th>\n",
       "      <td>324</td>\n",
       "      <td>10883434</td>\n",
       "    </tr>\n",
       "    <tr>\n",
       "      <th>323</th>\n",
       "      <td>323</td>\n",
       "      <td>9388118</td>\n",
       "    </tr>\n",
       "    <tr>\n",
       "      <th>163</th>\n",
       "      <td>163</td>\n",
       "      <td>9215439</td>\n",
       "    </tr>\n",
       "    <tr>\n",
       "      <th>9</th>\n",
       "      <td>9</td>\n",
       "      <td>8782233</td>\n",
       "    </tr>\n",
       "  </tbody>\n",
       "</table>\n",
       "</div>"
      ],
      "text/plain": [
       "     market  funding_total_usd\n",
       "65       65           40090346\n",
       "667     667           38274871\n",
       "450     450           15061855\n",
       "209     209           12866656\n",
       "246     246           12206401\n",
       "104     104           11954250\n",
       "324     324           10883434\n",
       "323     323            9388118\n",
       "163     163            9215439\n",
       "9         9            8782233"
      ]
     },
     "execution_count": 26,
     "metadata": {},
     "output_type": "execute_result"
    }
   ],
   "source": [
    "funding_sorted_maket = pd.pivot_table(data,\n",
    "              index=['market'],\n",
    "              values=['funding_total_usd'],\n",
    "              aggfunc=['sum']\n",
    "              ).reset_index()\n",
    "funding_sorted_maket.columns = ['market', 'funding_total_usd']\n",
    "funding_sorted_maket = funding_sorted_maket.sort_values(['funding_total_usd'], ascending = False)\n",
    "funding_sorted_maket.head(10)"
   ]
  },
  {
   "cell_type": "code",
   "execution_count": 27,
   "id": "51fad082",
   "metadata": {},
   "outputs": [
    {
     "data": {
      "image/png": "[encoded data removed]",
      "text/plain": [
       "<Figure size 720x504 with 1 Axes>"
      ]
     },
     "metadata": {
      "needs_background": "light"
     },
     "output_type": "display_data"
    }
   ],
   "source": [
    "fig, ax = plt.subplots(figsize=(10,7))\n",
    "_ = sns.barplot(x=\"market\", y=\"funding_total_usd\", data=funding_sorted_maket.head(10),\n",
    "                palette=\"nipy_spectral\", ax=ax)\n",
    "_ = ax.set_xticklabels(ax.get_xticklabels(), rotation=90)\n",
    "_ = ax.set(xlabel=\"Market\", ylabel=\"Total Funding\")"
   ]
  },
  {
   "cell_type": "markdown",
   "id": "73123b90",
   "metadata": {},
   "source": [
    "<b>Which city having most number of total funding"
   ]
  },
  {
   "cell_type": "code",
   "execution_count": 28,
   "id": "8af186d4",
   "metadata": {},
   "outputs": [
    {
     "data": {
      "text/html": [
       "<div>\n",
       "<style scoped>\n",
       "    .dataframe tbody tr th:only-of-type {\n",
       "        vertical-align: middle;\n",
       "    }\n",
       "\n",
       "    .dataframe tbody tr th {\n",
       "        vertical-align: top;\n",
       "    }\n",
       "\n",
       "    .dataframe thead th {\n",
       "        text-align: right;\n",
       "    }\n",
       "</style>\n",
       "<table border=\"1\" class=\"dataframe\">\n",
       "  <thead>\n",
       "    <tr style=\"text-align: right;\">\n",
       "      <th></th>\n",
       "      <th>city</th>\n",
       "      <th>funding_total_usd</th>\n",
       "    </tr>\n",
       "  </thead>\n",
       "  <tbody>\n",
       "    <tr>\n",
       "      <th>3798</th>\n",
       "      <td>3798</td>\n",
       "      <td>23962420</td>\n",
       "    </tr>\n",
       "    <tr>\n",
       "      <th>4917</th>\n",
       "      <td>4917</td>\n",
       "      <td>23904277</td>\n",
       "    </tr>\n",
       "    <tr>\n",
       "      <th>2984</th>\n",
       "      <td>2984</td>\n",
       "      <td>20503596</td>\n",
       "    </tr>\n",
       "    <tr>\n",
       "      <th>2453</th>\n",
       "      <td>2453</td>\n",
       "      <td>9640569</td>\n",
       "    </tr>\n",
       "    <tr>\n",
       "      <th>643</th>\n",
       "      <td>643</td>\n",
       "      <td>5575169</td>\n",
       "    </tr>\n",
       "    <tr>\n",
       "      <th>3249</th>\n",
       "      <td>3249</td>\n",
       "      <td>5558103</td>\n",
       "    </tr>\n",
       "    <tr>\n",
       "      <th>200</th>\n",
       "      <td>200</td>\n",
       "      <td>5356672</td>\n",
       "    </tr>\n",
       "    <tr>\n",
       "      <th>309</th>\n",
       "      <td>309</td>\n",
       "      <td>5321618</td>\n",
       "    </tr>\n",
       "    <tr>\n",
       "      <th>3918</th>\n",
       "      <td>3918</td>\n",
       "      <td>5192191</td>\n",
       "    </tr>\n",
       "    <tr>\n",
       "      <th>469</th>\n",
       "      <td>469</td>\n",
       "      <td>4940682</td>\n",
       "    </tr>\n",
       "  </tbody>\n",
       "</table>\n",
       "</div>"
      ],
      "text/plain": [
       "      city  funding_total_usd\n",
       "3798  3798           23962420\n",
       "4917  4917           23904277\n",
       "2984  2984           20503596\n",
       "2453  2453            9640569\n",
       "643    643            5575169\n",
       "3249  3249            5558103\n",
       "200    200            5356672\n",
       "309    309            5321618\n",
       "3918  3918            5192191\n",
       "469    469            4940682"
      ]
     },
     "execution_count": 28,
     "metadata": {},
     "output_type": "execute_result"
    }
   ],
   "source": [
    "funding_sorted_city = pd.pivot_table(data,\n",
    "              index=['city'],\n",
    "              values=['funding_total_usd'],\n",
    "              aggfunc=['sum']\n",
    "              ).reset_index()\n",
    "funding_sorted_city.columns = ['city', 'funding_total_usd']\n",
    "funding_sorted_city = funding_sorted_city.sort_values(['funding_total_usd'], ascending = False)\n",
    "funding_sorted_city = funding_sorted_city.head(10)\n",
    "funding_sorted_city"
   ]
  },
  {
   "cell_type": "code",
   "execution_count": 29,
   "id": "003d883f",
   "metadata": {},
   "outputs": [
    {
     "data": {
      "image/png": "[encoded data removed]",
      "text/plain": [
       "<Figure size 720x504 with 1 Axes>"
      ]
     },
     "metadata": {
      "needs_background": "light"
     },
     "output_type": "display_data"
    }
   ],
   "source": [
    "fig, ax = plt.subplots(figsize=(10,7))\n",
    "_ = sns.barplot(x=\"city\", y=\"funding_total_usd\", data=funding_sorted_city,\n",
    "                palette=\"nipy_spectral\", ax=ax)\n",
    "_ = ax.set_xticklabels(ax.get_xticklabels(), rotation=90)\n",
    "_ = ax.set(xlabel=\"City\", ylabel=\"Total Funding\")"
   ]
  },
  {
   "cell_type": "markdown",
   "id": "cc832bf3",
   "metadata": {},
   "source": [
    "## Feature Engineering (creating new features)"
   ]
  },
  {
   "cell_type": "code",
   "execution_count": 30,
   "id": "7d1838d0",
   "metadata": {},
   "outputs": [
    {
     "data": {
      "text/html": [
       "<div>\n",
       "<style scoped>\n",
       "    .dataframe tbody tr th:only-of-type {\n",
       "        vertical-align: middle;\n",
       "    }\n",
       "\n",
       "    .dataframe tbody tr th {\n",
       "        vertical-align: top;\n",
       "    }\n",
       "\n",
       "    .dataframe thead th {\n",
       "        text-align: right;\n",
       "    }\n",
       "</style>\n",
       "<table border=\"1\" class=\"dataframe\">\n",
       "  <thead>\n",
       "    <tr style=\"text-align: right;\">\n",
       "      <th></th>\n",
       "      <th>name</th>\n",
       "      <th>market</th>\n",
       "      <th>funding_total_usd</th>\n",
       "      <th>country_code</th>\n",
       "      <th>state_code</th>\n",
       "      <th>city</th>\n",
       "      <th>funding_rounds</th>\n",
       "      <th>founded_at</th>\n",
       "      <th>first_funding_at</th>\n",
       "      <th>last_funding_at</th>\n",
       "      <th>status</th>\n",
       "      <th>diff</th>\n",
       "    </tr>\n",
       "  </thead>\n",
       "  <tbody>\n",
       "    <tr>\n",
       "      <th>0</th>\n",
       "      <td>54278</td>\n",
       "      <td>450</td>\n",
       "      <td>17706</td>\n",
       "      <td>128</td>\n",
       "      <td>40</td>\n",
       "      <td>2984</td>\n",
       "      <td>4</td>\n",
       "      <td>3749</td>\n",
       "      <td>1970-01-01 00:00:00.000002477</td>\n",
       "      <td>1970-01-01 00:00:00.000003644</td>\n",
       "      <td>0</td>\n",
       "      <td>3.698076e-14</td>\n",
       "    </tr>\n",
       "    <tr>\n",
       "      <th>1</th>\n",
       "      <td>53059</td>\n",
       "      <td>584</td>\n",
       "      <td>17705</td>\n",
       "      <td>128</td>\n",
       "      <td>6</td>\n",
       "      <td>3798</td>\n",
       "      <td>11</td>\n",
       "      <td>3828</td>\n",
       "      <td>1970-01-01 00:00:00.000002312</td>\n",
       "      <td>1970-01-01 00:00:00.000004181</td>\n",
       "      <td>0</td>\n",
       "      <td>5.922625e-14</td>\n",
       "    </tr>\n",
       "    <tr>\n",
       "      <th>2</th>\n",
       "      <td>43919</td>\n",
       "      <td>271</td>\n",
       "      <td>17704</td>\n",
       "      <td>108</td>\n",
       "      <td>61</td>\n",
       "      <td>2844</td>\n",
       "      <td>0</td>\n",
       "      <td>3408</td>\n",
       "      <td>1970-01-01 00:00:00.000004062</td>\n",
       "      <td>1970-01-01 00:00:00.000003773</td>\n",
       "      <td>0</td>\n",
       "      <td>-9.158045e-15</td>\n",
       "    </tr>\n",
       "    <tr>\n",
       "      <th>3</th>\n",
       "      <td>10566</td>\n",
       "      <td>450</td>\n",
       "      <td>17703</td>\n",
       "      <td>128</td>\n",
       "      <td>57</td>\n",
       "      <td>2177</td>\n",
       "      <td>4</td>\n",
       "      <td>2762</td>\n",
       "      <td>1970-01-01 00:00:00.000000499</td>\n",
       "      <td>1970-01-01 00:00:00.000003278</td>\n",
       "      <td>1</td>\n",
       "      <td>8.806300e-14</td>\n",
       "    </tr>\n",
       "    <tr>\n",
       "      <th>4</th>\n",
       "      <td>9786</td>\n",
       "      <td>703</td>\n",
       "      <td>17702</td>\n",
       "      <td>128</td>\n",
       "      <td>8</td>\n",
       "      <td>4130</td>\n",
       "      <td>1</td>\n",
       "      <td>3828</td>\n",
       "      <td>1970-01-01 00:00:00.000002418</td>\n",
       "      <td>1970-01-01 00:00:00.000003843</td>\n",
       "      <td>0</td>\n",
       "      <td>4.515645e-14</td>\n",
       "    </tr>\n",
       "  </tbody>\n",
       "</table>\n",
       "</div>"
      ],
      "text/plain": [
       "    name  market  funding_total_usd  country_code  state_code  city  \\\n",
       "0  54278     450              17706           128          40  2984   \n",
       "1  53059     584              17705           128           6  3798   \n",
       "2  43919     271              17704           108          61  2844   \n",
       "3  10566     450              17703           128          57  2177   \n",
       "4   9786     703              17702           128           8  4130   \n",
       "\n",
       "   funding_rounds  founded_at              first_funding_at  \\\n",
       "0               4        3749 1970-01-01 00:00:00.000002477   \n",
       "1              11        3828 1970-01-01 00:00:00.000002312   \n",
       "2               0        3408 1970-01-01 00:00:00.000004062   \n",
       "3               4        2762 1970-01-01 00:00:00.000000499   \n",
       "4               1        3828 1970-01-01 00:00:00.000002418   \n",
       "\n",
       "                last_funding_at  status          diff  \n",
       "0 1970-01-01 00:00:00.000003644       0  3.698076e-14  \n",
       "1 1970-01-01 00:00:00.000004181       0  5.922625e-14  \n",
       "2 1970-01-01 00:00:00.000003773       0 -9.158045e-15  \n",
       "3 1970-01-01 00:00:00.000003278       1  8.806300e-14  \n",
       "4 1970-01-01 00:00:00.000003843       0  4.515645e-14  "
      ]
     },
     "execution_count": 30,
     "metadata": {},
     "output_type": "execute_result"
    }
   ],
   "source": [
    "# Creating a new column 'diff' which is different between the last and first in year\n",
    "\n",
    "data[\"last_funding_at\"] = pd.to_datetime(data[\"last_funding_at\"])\n",
    "data[\"first_funding_at\"] = pd.to_datetime(data[\"first_funding_at\"], errors = 'coerce')\n",
    "\n",
    "data['diff'] = (data['last_funding_at'] - data['first_funding_at'])/ np.timedelta64(1, 'Y')\n",
    "data[\"diff\"] = pd.to_numeric(data[\"diff\"])\n",
    "data.head(5)"
   ]
  },
  {
   "cell_type": "code",
   "execution_count": 31,
   "id": "3d1603b6",
   "metadata": {},
   "outputs": [
    {
     "data": {
      "text/html": [
       "<div>\n",
       "<style scoped>\n",
       "    .dataframe tbody tr th:only-of-type {\n",
       "        vertical-align: middle;\n",
       "    }\n",
       "\n",
       "    .dataframe tbody tr th {\n",
       "        vertical-align: top;\n",
       "    }\n",
       "\n",
       "    .dataframe thead th {\n",
       "        text-align: right;\n",
       "    }\n",
       "</style>\n",
       "<table border=\"1\" class=\"dataframe\">\n",
       "  <thead>\n",
       "    <tr style=\"text-align: right;\">\n",
       "      <th></th>\n",
       "      <th>name</th>\n",
       "      <th>market</th>\n",
       "      <th>funding_total_usd</th>\n",
       "      <th>country_code</th>\n",
       "      <th>state_code</th>\n",
       "      <th>city</th>\n",
       "      <th>funding_rounds</th>\n",
       "      <th>founded_at</th>\n",
       "      <th>first_funding_at</th>\n",
       "      <th>last_funding_at</th>\n",
       "      <th>status</th>\n",
       "      <th>diff</th>\n",
       "      <th>growth</th>\n",
       "    </tr>\n",
       "  </thead>\n",
       "  <tbody>\n",
       "    <tr>\n",
       "      <th>0</th>\n",
       "      <td>54278</td>\n",
       "      <td>450</td>\n",
       "      <td>17706</td>\n",
       "      <td>128</td>\n",
       "      <td>40</td>\n",
       "      <td>2984</td>\n",
       "      <td>4</td>\n",
       "      <td>3749</td>\n",
       "      <td>1970-01-01 00:00:00.000002477</td>\n",
       "      <td>1970-01-01 00:00:00.000003644</td>\n",
       "      <td>0</td>\n",
       "      <td>3.698076e-14</td>\n",
       "      <td>1</td>\n",
       "    </tr>\n",
       "    <tr>\n",
       "      <th>1</th>\n",
       "      <td>53059</td>\n",
       "      <td>584</td>\n",
       "      <td>17705</td>\n",
       "      <td>128</td>\n",
       "      <td>6</td>\n",
       "      <td>3798</td>\n",
       "      <td>11</td>\n",
       "      <td>3828</td>\n",
       "      <td>1970-01-01 00:00:00.000002312</td>\n",
       "      <td>1970-01-01 00:00:00.000004181</td>\n",
       "      <td>0</td>\n",
       "      <td>5.922625e-14</td>\n",
       "      <td>1</td>\n",
       "    </tr>\n",
       "    <tr>\n",
       "      <th>2</th>\n",
       "      <td>43919</td>\n",
       "      <td>271</td>\n",
       "      <td>17704</td>\n",
       "      <td>108</td>\n",
       "      <td>61</td>\n",
       "      <td>2844</td>\n",
       "      <td>0</td>\n",
       "      <td>3408</td>\n",
       "      <td>1970-01-01 00:00:00.000004062</td>\n",
       "      <td>1970-01-01 00:00:00.000003773</td>\n",
       "      <td>0</td>\n",
       "      <td>-9.158045e-15</td>\n",
       "      <td>1</td>\n",
       "    </tr>\n",
       "    <tr>\n",
       "      <th>3</th>\n",
       "      <td>10566</td>\n",
       "      <td>450</td>\n",
       "      <td>17703</td>\n",
       "      <td>128</td>\n",
       "      <td>57</td>\n",
       "      <td>2177</td>\n",
       "      <td>4</td>\n",
       "      <td>2762</td>\n",
       "      <td>1970-01-01 00:00:00.000000499</td>\n",
       "      <td>1970-01-01 00:00:00.000003278</td>\n",
       "      <td>1</td>\n",
       "      <td>8.806300e-14</td>\n",
       "      <td>1</td>\n",
       "    </tr>\n",
       "    <tr>\n",
       "      <th>4</th>\n",
       "      <td>9786</td>\n",
       "      <td>703</td>\n",
       "      <td>17702</td>\n",
       "      <td>128</td>\n",
       "      <td>8</td>\n",
       "      <td>4130</td>\n",
       "      <td>1</td>\n",
       "      <td>3828</td>\n",
       "      <td>1970-01-01 00:00:00.000002418</td>\n",
       "      <td>1970-01-01 00:00:00.000003843</td>\n",
       "      <td>0</td>\n",
       "      <td>4.515645e-14</td>\n",
       "      <td>1</td>\n",
       "    </tr>\n",
       "  </tbody>\n",
       "</table>\n",
       "</div>"
      ],
      "text/plain": [
       "    name  market  funding_total_usd  country_code  state_code  city  \\\n",
       "0  54278     450              17706           128          40  2984   \n",
       "1  53059     584              17705           128           6  3798   \n",
       "2  43919     271              17704           108          61  2844   \n",
       "3  10566     450              17703           128          57  2177   \n",
       "4   9786     703              17702           128           8  4130   \n",
       "\n",
       "   funding_rounds  founded_at              first_funding_at  \\\n",
       "0               4        3749 1970-01-01 00:00:00.000002477   \n",
       "1              11        3828 1970-01-01 00:00:00.000002312   \n",
       "2               0        3408 1970-01-01 00:00:00.000004062   \n",
       "3               4        2762 1970-01-01 00:00:00.000000499   \n",
       "4               1        3828 1970-01-01 00:00:00.000002418   \n",
       "\n",
       "                last_funding_at  status          diff  growth  \n",
       "0 1970-01-01 00:00:00.000003644       0  3.698076e-14       1  \n",
       "1 1970-01-01 00:00:00.000004181       0  5.922625e-14       1  \n",
       "2 1970-01-01 00:00:00.000003773       0 -9.158045e-15       1  \n",
       "3 1970-01-01 00:00:00.000003278       1  8.806300e-14       1  \n",
       "4 1970-01-01 00:00:00.000003843       0  4.515645e-14       1  "
      ]
     },
     "execution_count": 31,
     "metadata": {},
     "output_type": "execute_result"
    }
   ],
   "source": [
    "# Creating a new column 'growth' which reflect that a startup has gain and used average funding in average number of years with average number of year difference between first and last funding\n",
    "\n",
    "data['growth'] = np.where((data['funding_total_usd'] >= data['funding_total_usd'].mean()) | (data['status'] == 1) | (data['diff'] >= data['diff'].mean()), 1, 0)\n",
    "data.head(5)"
   ]
  },
  {
   "cell_type": "markdown",
   "id": "6cbf51c8",
   "metadata": {},
   "source": [
    "## Discover if data possess any structure\n",
    "\n"
   ]
  },
  {
   "cell_type": "code",
   "execution_count": 32,
   "id": "d063fe5f",
   "metadata": {},
   "outputs": [
    {
     "data": {
      "text/plain": [
       "Index(['name', 'market', 'funding_total_usd', 'country_code', 'state_code',\n",
       "       'city', 'funding_rounds', 'founded_at', 'status', 'diff', 'growth'],\n",
       "      dtype='object')"
      ]
     },
     "execution_count": 32,
     "metadata": {},
     "output_type": "execute_result"
    }
   ],
   "source": [
    "# Selecting only numeric columns \n",
    "num_data = data.select_dtypes(include = ['float64', 'int64']).copy()\n",
    "num_data.columns"
   ]
  },
  {
   "cell_type": "code",
   "execution_count": 33,
   "id": "48fbb877",
   "metadata": {},
   "outputs": [
    {
     "data": {
      "text/html": [
       "<div>\n",
       "<style scoped>\n",
       "    .dataframe tbody tr th:only-of-type {\n",
       "        vertical-align: middle;\n",
       "    }\n",
       "\n",
       "    .dataframe tbody tr th {\n",
       "        vertical-align: top;\n",
       "    }\n",
       "\n",
       "    .dataframe thead th {\n",
       "        text-align: right;\n",
       "    }\n",
       "</style>\n",
       "<table border=\"1\" class=\"dataframe\">\n",
       "  <thead>\n",
       "    <tr style=\"text-align: right;\">\n",
       "      <th></th>\n",
       "      <th>name</th>\n",
       "      <th>market</th>\n",
       "      <th>funding_total_usd</th>\n",
       "      <th>country_code</th>\n",
       "      <th>state_code</th>\n",
       "      <th>city</th>\n",
       "      <th>funding_rounds</th>\n",
       "      <th>founded_at</th>\n",
       "      <th>status</th>\n",
       "      <th>diff</th>\n",
       "      <th>growth</th>\n",
       "    </tr>\n",
       "  </thead>\n",
       "  <tbody>\n",
       "    <tr>\n",
       "      <th>0</th>\n",
       "      <td>54278</td>\n",
       "      <td>450</td>\n",
       "      <td>17706</td>\n",
       "      <td>128</td>\n",
       "      <td>40</td>\n",
       "      <td>2984</td>\n",
       "      <td>4</td>\n",
       "      <td>3749</td>\n",
       "      <td>0</td>\n",
       "      <td>3.698076e-14</td>\n",
       "      <td>1</td>\n",
       "    </tr>\n",
       "    <tr>\n",
       "      <th>1</th>\n",
       "      <td>53059</td>\n",
       "      <td>584</td>\n",
       "      <td>17705</td>\n",
       "      <td>128</td>\n",
       "      <td>6</td>\n",
       "      <td>3798</td>\n",
       "      <td>11</td>\n",
       "      <td>3828</td>\n",
       "      <td>0</td>\n",
       "      <td>5.922625e-14</td>\n",
       "      <td>1</td>\n",
       "    </tr>\n",
       "    <tr>\n",
       "      <th>2</th>\n",
       "      <td>43919</td>\n",
       "      <td>271</td>\n",
       "      <td>17704</td>\n",
       "      <td>108</td>\n",
       "      <td>61</td>\n",
       "      <td>2844</td>\n",
       "      <td>0</td>\n",
       "      <td>3408</td>\n",
       "      <td>0</td>\n",
       "      <td>-9.158045e-15</td>\n",
       "      <td>1</td>\n",
       "    </tr>\n",
       "    <tr>\n",
       "      <th>3</th>\n",
       "      <td>10566</td>\n",
       "      <td>450</td>\n",
       "      <td>17703</td>\n",
       "      <td>128</td>\n",
       "      <td>57</td>\n",
       "      <td>2177</td>\n",
       "      <td>4</td>\n",
       "      <td>2762</td>\n",
       "      <td>1</td>\n",
       "      <td>8.806300e-14</td>\n",
       "      <td>1</td>\n",
       "    </tr>\n",
       "    <tr>\n",
       "      <th>4</th>\n",
       "      <td>9786</td>\n",
       "      <td>703</td>\n",
       "      <td>17702</td>\n",
       "      <td>128</td>\n",
       "      <td>8</td>\n",
       "      <td>4130</td>\n",
       "      <td>1</td>\n",
       "      <td>3828</td>\n",
       "      <td>0</td>\n",
       "      <td>4.515645e-14</td>\n",
       "      <td>1</td>\n",
       "    </tr>\n",
       "  </tbody>\n",
       "</table>\n",
       "</div>"
      ],
      "text/plain": [
       "    name  market  funding_total_usd  country_code  state_code  city  \\\n",
       "0  54278     450              17706           128          40  2984   \n",
       "1  53059     584              17705           128           6  3798   \n",
       "2  43919     271              17704           108          61  2844   \n",
       "3  10566     450              17703           128          57  2177   \n",
       "4   9786     703              17702           128           8  4130   \n",
       "\n",
       "   funding_rounds  founded_at  status          diff  growth  \n",
       "0               4        3749       0  3.698076e-14       1  \n",
       "1              11        3828       0  5.922625e-14       1  \n",
       "2               0        3408       0 -9.158045e-15       1  \n",
       "3               4        2762       1  8.806300e-14       1  \n",
       "4               1        3828       0  4.515645e-14       1  "
      ]
     },
     "execution_count": 33,
     "metadata": {},
     "output_type": "execute_result"
    }
   ],
   "source": [
    "num_data.head(5)"
   ]
  },
  {
   "cell_type": "code",
   "execution_count": 34,
   "id": "5910f8a6",
   "metadata": {},
   "outputs": [
    {
     "data": {
      "text/plain": [
       "(61398, 11)"
      ]
     },
     "execution_count": 34,
     "metadata": {},
     "output_type": "execute_result"
    }
   ],
   "source": [
    "num_data.shape"
   ]
  },
  {
   "cell_type": "code",
   "execution_count": 35,
   "id": "b0acdded",
   "metadata": {},
   "outputs": [],
   "source": [
    "cols = ['funding_total_usd', 'funding_rounds', 'status', 'diff', 'growth']"
   ]
  },
  {
   "cell_type": "code",
   "execution_count": 36,
   "id": "f03f4bea",
   "metadata": {},
   "outputs": [],
   "source": [
    "from sklearn.preprocessing import StandardScaler\n",
    "ss= StandardScaler()\n",
    "cols = ['funding_total_usd', 'funding_rounds', 'status', 'diff', 'growth']\n",
    "nc = ss.fit_transform(num_data.loc[:,cols])"
   ]
  },
  {
   "cell_type": "code",
   "execution_count": 37,
   "id": "7523cba2",
   "metadata": {},
   "outputs": [
    {
     "data": {
      "text/plain": [
       "(61398, 5)"
      ]
     },
     "execution_count": 37,
     "metadata": {},
     "output_type": "execute_result"
    }
   ],
   "source": [
    "nc.shape"
   ]
  },
  {
   "cell_type": "code",
   "execution_count": 38,
   "id": "15fe0763",
   "metadata": {},
   "outputs": [
    {
     "data": {
      "text/html": [
       "<div>\n",
       "<style scoped>\n",
       "    .dataframe tbody tr th:only-of-type {\n",
       "        vertical-align: middle;\n",
       "    }\n",
       "\n",
       "    .dataframe tbody tr th {\n",
       "        vertical-align: top;\n",
       "    }\n",
       "\n",
       "    .dataframe thead th {\n",
       "        text-align: right;\n",
       "    }\n",
       "</style>\n",
       "<table border=\"1\" class=\"dataframe\">\n",
       "  <thead>\n",
       "    <tr style=\"text-align: right;\">\n",
       "      <th></th>\n",
       "      <th>funding_total_usd</th>\n",
       "      <th>funding_rounds</th>\n",
       "      <th>status</th>\n",
       "      <th>diff</th>\n",
       "      <th>growth</th>\n",
       "    </tr>\n",
       "  </thead>\n",
       "  <tbody>\n",
       "    <tr>\n",
       "      <th>0</th>\n",
       "      <td>2.138873</td>\n",
       "      <td>2.470019</td>\n",
       "      <td>-0.292698</td>\n",
       "      <td>1.953048</td>\n",
       "      <td>0.949605</td>\n",
       "    </tr>\n",
       "    <tr>\n",
       "      <th>1</th>\n",
       "      <td>2.138689</td>\n",
       "      <td>7.734722</td>\n",
       "      <td>-0.292698</td>\n",
       "      <td>3.156225</td>\n",
       "      <td>0.949605</td>\n",
       "    </tr>\n",
       "    <tr>\n",
       "      <th>2</th>\n",
       "      <td>2.138505</td>\n",
       "      <td>-0.538382</td>\n",
       "      <td>-0.292698</td>\n",
       "      <td>-0.542430</td>\n",
       "      <td>0.949605</td>\n",
       "    </tr>\n",
       "    <tr>\n",
       "      <th>3</th>\n",
       "      <td>2.138320</td>\n",
       "      <td>2.470019</td>\n",
       "      <td>3.416496</td>\n",
       "      <td>4.715899</td>\n",
       "      <td>0.949605</td>\n",
       "    </tr>\n",
       "    <tr>\n",
       "      <th>4</th>\n",
       "      <td>2.138136</td>\n",
       "      <td>0.213719</td>\n",
       "      <td>-0.292698</td>\n",
       "      <td>2.395242</td>\n",
       "      <td>0.949605</td>\n",
       "    </tr>\n",
       "  </tbody>\n",
       "</table>\n",
       "</div>"
      ],
      "text/plain": [
       "   funding_total_usd  funding_rounds    status      diff    growth\n",
       "0           2.138873        2.470019 -0.292698  1.953048  0.949605\n",
       "1           2.138689        7.734722 -0.292698  3.156225  0.949605\n",
       "2           2.138505       -0.538382 -0.292698 -0.542430  0.949605\n",
       "3           2.138320        2.470019  3.416496  4.715899  0.949605\n",
       "4           2.138136        0.213719 -0.292698  2.395242  0.949605"
      ]
     },
     "execution_count": 38,
     "metadata": {},
     "output_type": "execute_result"
    }
   ],
   "source": [
    "nc = pd.DataFrame(nc, columns = cols)\n",
    "nc.head(5)"
   ]
  },
  {
   "cell_type": "code",
   "execution_count": 39,
   "id": "df7b6df9",
   "metadata": {},
   "outputs": [],
   "source": [
    "# Adding few columns that are discrete\n",
    "# These columns were not to be scaled\n",
    "\n",
    "nc['funding_total_usd'] = data['funding_total_usd']\n",
    "nc['funding_rounds'] = data['funding_rounds']\n",
    "nc['status'] = data['status']\n",
    "nc['diff'] = data['diff']\n",
    "nc['growth'] = data['growth']"
   ]
  },
  {
   "cell_type": "code",
   "execution_count": 40,
   "id": "6d1df3b3",
   "metadata": {},
   "outputs": [],
   "source": [
    "# Creating a dataframe from random data for comparison:\n",
    "\n",
    "rng = np.random.default_rng()\n",
    "nc_rand = pd.DataFrame(rng.normal(size = (61398, 5)),\n",
    "                       columns = cols )   "
   ]
  },
  {
   "cell_type": "code",
   "execution_count": 41,
   "id": "fedaa226",
   "metadata": {},
   "outputs": [
    {
     "data": {
      "text/plain": [
       "(61398, 5)"
      ]
     },
     "execution_count": 41,
     "metadata": {},
     "output_type": "execute_result"
    }
   ],
   "source": [
    "# 4.1 Add/overwrite these columns also\n",
    "#\n",
    "nc_rand['funding_total_usd'] = np.random.randint(2,   size= (61398,))   # [0,1]\n",
    "nc_rand['funding_rounds']        = np.random.randint(2,   size= (61398,))   # [0,1]\n",
    "nc_rand['status']       = np.random.randint(1,4, size= (61398,))   # [1,2,3]\n",
    "nc_rand['diff']     = np.random.randint(24,  size= (61398,))   # [0 to 23]\n",
    "nc_rand['growth']       = np.random.randint(7,   size= (61398,))   # [0 to 6]\n",
    "\n",
    "nc_rand.shape    "
   ]
  },
  {
   "cell_type": "markdown",
   "id": "41e1feb7",
   "metadata": {},
   "source": [
    "<b> Parallel coordinates plot"
   ]
  },
  {
   "cell_type": "code",
   "execution_count": 42,
   "id": "17240c48",
   "metadata": {},
   "outputs": [
    {
     "data": {
      "text/plain": [
       "Text(0.5, 1.0, 'Parallel chart with ad data')"
      ]
     },
     "execution_count": 42,
     "metadata": {},
     "output_type": "execute_result"
    },
    {
     "data": {
      "image/png": "[encoded data removed]",
      "text/plain": [
       "<Figure size 432x288 with 1 Axes>"
      ]
     },
     "metadata": {
      "needs_background": "light"
     },
     "output_type": "display_data"
    }
   ],
   "source": [
    "# Parallel coordinates with original data\n",
    "fig2 = plt.figure()\n",
    "ax = pd.plotting.parallel_coordinates(nc,\n",
    "                                 'status',\n",
    "                                  colormap= plt.cm.winter\n",
    "                                  )\n",
    "\n",
    "plt.xticks(rotation=90)\n",
    "plt.title(\"Parallel chart with ad data\")"
   ]
  },
  {
   "cell_type": "code",
   "execution_count": 43,
   "id": "4e46eeca",
   "metadata": {},
   "outputs": [
    {
     "data": {
      "text/plain": [
       "Text(0.5, 1.0, 'Parallel chart with random data')"
      ]
     },
     "execution_count": 43,
     "metadata": {},
     "output_type": "execute_result"
    },
    {
     "data": {
      "image/png": "[encoded data removed]",
      "text/plain": [
       "<Figure size 432x288 with 1 Axes>"
      ]
     },
     "metadata": {
      "needs_background": "light"
     },
     "output_type": "display_data"
    }
   ],
   "source": [
    "# Parallel coordinates with random data\n",
    "\n",
    "fig1 = plt.figure()\n",
    "pd.plotting.parallel_coordinates(nc_rand,\n",
    "                                 'status',    # class_column\n",
    "                                  colormap='winter'\n",
    "                                  )\n",
    "plt.xticks(rotation=90)\n",
    "plt.title(\"Parallel chart with random data\")"
   ]
  },
  {
   "cell_type": "markdown",
   "id": "7babf4ac",
   "metadata": {},
   "source": [
    "<b>Andrews plot"
   ]
  },
  {
   "cell_type": "code",
   "execution_count": 44,
   "id": "ef888f50",
   "metadata": {},
   "outputs": [
    {
     "data": {
      "text/plain": [
       "Text(0.5, 1.0, 'Andrews curve with ad data')"
      ]
     },
     "execution_count": 44,
     "metadata": {},
     "output_type": "execute_result"
    },
    {
     "data": {
      "image/png": "[encoded data removed]",
      "text/plain": [
       "<Figure size 432x288 with 1 Axes>"
      ]
     },
     "metadata": {
      "needs_background": "light"
     },
     "output_type": "display_data"
    }
   ],
   "source": [
    "# 6.1 Andrews plots with original data\n",
    "fig4 = plt.figure()\n",
    "pd.plotting.andrews_curves(nc,\n",
    "                           'status',\n",
    "                            colormap = plt.cm.winter\n",
    "                           )\n",
    "plt.xticks(rotation=90)\n",
    "plt.title(\"Andrews curve with ad data\")"
   ]
  },
  {
   "cell_type": "code",
   "execution_count": 45,
   "id": "c067d650",
   "metadata": {},
   "outputs": [
    {
     "data": {
      "text/plain": [
       "Text(0.5, 1.0, 'Andrews plots with random data')"
      ]
     },
     "execution_count": 45,
     "metadata": {},
     "output_type": "execute_result"
    },
    {
     "data": {
      "image/png": "[encoded data removed]",
      "text/plain": [
       "<Figure size 432x288 with 1 Axes>"
      ]
     },
     "metadata": {
      "needs_background": "light"
     },
     "output_type": "display_data"
    }
   ],
   "source": [
    "# 6.0 Andrews charts with random data\n",
    "fig3 = plt.figure()\n",
    "pd.plotting.andrews_curves(nc_rand,\n",
    "                           'status',\n",
    "                           colormap = 'winter')\n",
    "\n",
    "plt.title(\"Andrews plots with random data\")"
   ]
  },
  {
   "cell_type": "markdown",
   "id": "3ff129e4",
   "metadata": {},
   "source": [
    "<b>Radviz plot"
   ]
  },
  {
   "cell_type": "code",
   "execution_count": 46,
   "id": "0ac2275f",
   "metadata": {},
   "outputs": [
    {
     "data": {
      "text/plain": [
       "<AxesSubplot:>"
      ]
     },
     "execution_count": 46,
     "metadata": {},
     "output_type": "execute_result"
    },
    {
     "data": {
      "image/png": "[encoded data removed]",
      "text/plain": [
       "<Figure size 432x288 with 1 Axes>"
      ]
     },
     "metadata": {
      "needs_background": "light"
     },
     "output_type": "display_data"
    }
   ],
   "source": [
    "# 7.0 Radviz plot with original data\n",
    "\n",
    "fig5 = plt.figure()\n",
    "pd.plotting.radviz(nc,\n",
    "                   class_column ='status',\n",
    "                   colormap= plt.cm.winter,\n",
    "                   alpha = 0.4\n",
    "                   )"
   ]
  },
  {
   "cell_type": "code",
   "execution_count": 47,
   "id": "ff16fd61",
   "metadata": {},
   "outputs": [
    {
     "name": "stderr",
     "output_type": "stream",
     "text": [
      "/opt/homebrew/anaconda3/lib/python3.9/site-packages/pandas/plotting/_matplotlib/misc.py:178: RuntimeWarning: invalid value encountered in true_divide\n",
      "  y = (s * row_).sum(axis=0) / row.sum()\n"
     ]
    },
    {
     "data": {
      "text/plain": [
       "<AxesSubplot:>"
      ]
     },
     "execution_count": 47,
     "metadata": {},
     "output_type": "execute_result"
    },
    {
     "data": {
      "image/png": "[encoded data removed]",
      "text/plain": [
       "<Figure size 432x288 with 1 Axes>"
      ]
     },
     "metadata": {
      "needs_background": "light"
     },
     "output_type": "display_data"
    }
   ],
   "source": [
    "# 7.0 Radviz plot with random data\n",
    "\n",
    "fig5 = plt.figure()\n",
    "pd.plotting.radviz(nc_rand,\n",
    "                   class_column ='status',\n",
    "                   colormap= plt.cm.winter,\n",
    "                   alpha = 0.4\n",
    "                   )"
   ]
  },
  {
   "cell_type": "markdown",
   "id": "6f2e6b7c",
   "metadata": {},
   "source": [
    "## Data pipelining for Data Processing and Modeling"
   ]
  },
  {
   "cell_type": "markdown",
   "id": "30f3e2e1",
   "metadata": {},
   "source": [
    "<b> Pre-processing"
   ]
  },
  {
   "cell_type": "code",
   "execution_count": 48,
   "id": "f7305713",
   "metadata": {},
   "outputs": [],
   "source": [
    "data.drop(columns = ['first_funding_at','last_funding_at'],inplace = True  )"
   ]
  },
  {
   "cell_type": "code",
   "execution_count": 49,
   "id": "98e6b4fb",
   "metadata": {},
   "outputs": [
    {
     "name": "stdout",
     "output_type": "stream",
     "text": [
      "<class 'pandas.core.frame.DataFrame'>\n",
      "RangeIndex: 61398 entries, 0 to 61397\n",
      "Data columns (total 11 columns):\n",
      " #   Column             Non-Null Count  Dtype  \n",
      "---  ------             --------------  -----  \n",
      " 0   name               61398 non-null  int64  \n",
      " 1   market             61398 non-null  int64  \n",
      " 2   funding_total_usd  61398 non-null  int64  \n",
      " 3   country_code       61398 non-null  int64  \n",
      " 4   state_code         61398 non-null  int64  \n",
      " 5   city               61398 non-null  int64  \n",
      " 6   funding_rounds     61398 non-null  int64  \n",
      " 7   founded_at         61398 non-null  int64  \n",
      " 8   diff               61398 non-null  float64\n",
      " 9   growth             61398 non-null  int64  \n",
      " 10  status             61398 non-null  int64  \n",
      "dtypes: float64(1), int64(10)\n",
      "memory usage: 5.2 MB\n"
     ]
    }
   ],
   "source": [
    "data = data[['name', 'market', 'funding_total_usd', 'country_code', 'state_code',\n",
    "        'city', 'funding_rounds', 'founded_at', 'diff', 'growth', 'status',]]\n",
    "data.info()"
   ]
  },
  {
   "cell_type": "code",
   "execution_count": 50,
   "id": "c5f63899",
   "metadata": {},
   "outputs": [],
   "source": [
    "data['name'] = data['name'].astype(object)\n",
    "data['market'] = data['market'].astype(object)\n",
    "data['funding_total_usd'] = data['funding_total_usd'].astype(object)\n",
    "data['country_code'] = data['country_code'].astype(object)\n",
    "data['state_code'] = data['state_code'].astype(object)\n",
    "data['city'] = data['city'].astype(object)\n",
    "data['funding_rounds'] = data['funding_rounds'].astype(object)\n",
    "data['founded_at'] = data['founded_at'].astype(object)\n",
    "data['diff'] = data['diff'].astype(object)\n",
    "data['growth'] = data['growth'].astype(object)\n",
    "data['status'] = data['status'].astype(object)"
   ]
  },
  {
   "cell_type": "code",
   "execution_count": 51,
   "id": "1c864086",
   "metadata": {},
   "outputs": [
    {
     "name": "stdout",
     "output_type": "stream",
     "text": [
      "\n",
      "\n",
      "Target,y, values\n"
     ]
    },
    {
     "data": {
      "text/plain": [
       "0    0\n",
       "1    0\n",
       "2    0\n",
       "3    1\n",
       "4    0\n",
       "Name: status, dtype: object"
      ]
     },
     "execution_count": 51,
     "metadata": {},
     "output_type": "execute_result"
    }
   ],
   "source": [
    "# Divide data into predictors and target\n",
    "# First 10 columns are predictors\n",
    "\n",
    "X = data.iloc[ :, 0:10]\n",
    "X.head(2)\n",
    "\n",
    "# 10th index or 11th column is target\n",
    "print(\"\\n\\nTarget,y, values\")\n",
    "y = data.iloc[ : , 10]\n",
    "y.head()"
   ]
  },
  {
   "cell_type": "markdown",
   "id": "7ebec998",
   "metadata": {},
   "source": [
    "<b>Split data into train and test"
   ]
  },
  {
   "cell_type": "code",
   "execution_count": 52,
   "id": "7533f221",
   "metadata": {},
   "outputs": [],
   "source": [
    "# Split dataset into train and validation parts\n",
    "X_train, X_test, y_train, y_test = train_test_split(X,\n",
    "                                                    y,\n",
    "                                                    test_size=0.20,\n",
    "                                                    shuffle = True,\n",
    "                                                    stratify = y\n",
    "                                                    )      "
   ]
  },
  {
   "cell_type": "code",
   "execution_count": 53,
   "id": "c84965a5",
   "metadata": {},
   "outputs": [
    {
     "data": {
      "text/plain": [
       "(49118, 10)"
      ]
     },
     "execution_count": 53,
     "metadata": {},
     "output_type": "execute_result"
    }
   ],
   "source": [
    "X_train.shape"
   ]
  },
  {
   "cell_type": "code",
   "execution_count": 54,
   "id": "b946e57a",
   "metadata": {},
   "outputs": [
    {
     "data": {
      "text/plain": [
       "(12280, 10)"
      ]
     },
     "execution_count": 54,
     "metadata": {},
     "output_type": "execute_result"
    }
   ],
   "source": [
    "X_test.shape"
   ]
  },
  {
   "cell_type": "code",
   "execution_count": 55,
   "id": "6a807255",
   "metadata": {},
   "outputs": [
    {
     "data": {
      "text/plain": [
       "(49118,)"
      ]
     },
     "execution_count": 55,
     "metadata": {},
     "output_type": "execute_result"
    }
   ],
   "source": [
    "y_train.shape"
   ]
  },
  {
   "cell_type": "code",
   "execution_count": 56,
   "id": "03619e98",
   "metadata": {},
   "outputs": [
    {
     "data": {
      "text/plain": [
       "(12280,)"
      ]
     },
     "execution_count": 56,
     "metadata": {},
     "output_type": "execute_result"
    }
   ],
   "source": [
    "y_test.shape"
   ]
  },
  {
   "cell_type": "code",
   "execution_count": 57,
   "id": "2d44a884",
   "metadata": {},
   "outputs": [],
   "source": [
    "# Storing column names somewhere for use in feature importance\n",
    "colnames = X.columns.tolist()\n",
    "\n"
   ]
  },
  {
   "cell_type": "markdown",
   "id": "1e33bf30",
   "metadata": {},
   "source": [
    "<b> Creating a Pipeline"
   ]
  },
  {
   "cell_type": "code",
   "execution_count": 58,
   "id": "bc1559bd",
   "metadata": {},
   "outputs": [],
   "source": [
    "\n",
    "# Pipeline steps\n",
    "# steps: List of (name, transform) tuples\n",
    "#       (implementing fit/transform) that are\n",
    "#       chained, in the order in which they\n",
    "#       are chained, with the last object an\n",
    "#       estimator.\n",
    "#      Format: [(name, transformer), (name, transformer)..(name, estimator)]\n",
    "from sklearn.preprocessing import StandardScaler as ss\n",
    "steps_xg = [('sts', ss()),\n",
    "            ('pca', PCA()),\n",
    "            ('xg',  XGBClassifier(silent = False,\n",
    "                                  n_jobs=3)        # Specify other parameters here\n",
    "            )\n",
    "            ]\n",
    "\n",
    "# Instantiate Pipeline object\n",
    "\n",
    "pipe_xg = Pipeline(steps_xg)\n",
    "\n"
   ]
  },
  {
   "cell_type": "markdown",
   "id": "42f3c3b6",
   "metadata": {},
   "source": [
    "## Cross-Validation"
   ]
  },
  {
   "cell_type": "markdown",
   "id": "c11f30f4",
   "metadata": {},
   "source": [
    "<b>Grid Search code to discover best pipeline parameters"
   ]
  },
  {
   "cell_type": "code",
   "execution_count": 59,
   "id": "6f8aba66",
   "metadata": {},
   "outputs": [
    {
     "name": "stdout",
     "output_type": "stream",
     "text": [
      "\n",
      "\n",
      "--Which parameters can be tuned?--\n",
      "\n",
      "\n"
     ]
    },
    {
     "data": {
      "text/plain": [
       "{'memory': None,\n",
       " 'steps': [('sts', StandardScaler()),\n",
       "  ('pca', PCA()),\n",
       "  ('xg',\n",
       "   XGBClassifier(base_score=None, booster=None, callbacks=None,\n",
       "                 colsample_bylevel=None, colsample_bynode=None,\n",
       "                 colsample_bytree=None, early_stopping_rounds=None,\n",
       "                 enable_categorical=False, eval_metric=None, gamma=None,\n",
       "                 gpu_id=None, grow_policy=None, importance_type=None,\n",
       "                 interaction_constraints=None, learning_rate=None, max_bin=None,\n",
       "                 max_cat_to_onehot=None, max_delta_step=None, max_depth=None,\n",
       "                 max_leaves=None, min_child_weight=None, missing=nan,\n",
       "                 monotone_constraints=None, n_estimators=100, n_jobs=3,\n",
       "                 num_parallel_tree=None, predictor=None, random_state=None,\n",
       "                 reg_alpha=None, reg_lambda=None, ...))],\n",
       " 'verbose': False,\n",
       " 'sts': StandardScaler(),\n",
       " 'pca': PCA(),\n",
       " 'xg': XGBClassifier(base_score=None, booster=None, callbacks=None,\n",
       "               colsample_bylevel=None, colsample_bynode=None,\n",
       "               colsample_bytree=None, early_stopping_rounds=None,\n",
       "               enable_categorical=False, eval_metric=None, gamma=None,\n",
       "               gpu_id=None, grow_policy=None, importance_type=None,\n",
       "               interaction_constraints=None, learning_rate=None, max_bin=None,\n",
       "               max_cat_to_onehot=None, max_delta_step=None, max_depth=None,\n",
       "               max_leaves=None, min_child_weight=None, missing=nan,\n",
       "               monotone_constraints=None, n_estimators=100, n_jobs=3,\n",
       "               num_parallel_tree=None, predictor=None, random_state=None,\n",
       "               reg_alpha=None, reg_lambda=None, ...),\n",
       " 'sts__copy': True,\n",
       " 'sts__with_mean': True,\n",
       " 'sts__with_std': True,\n",
       " 'pca__copy': True,\n",
       " 'pca__iterated_power': 'auto',\n",
       " 'pca__n_components': None,\n",
       " 'pca__random_state': None,\n",
       " 'pca__svd_solver': 'auto',\n",
       " 'pca__tol': 0.0,\n",
       " 'pca__whiten': False,\n",
       " 'xg__objective': 'binary:logistic',\n",
       " 'xg__use_label_encoder': False,\n",
       " 'xg__base_score': None,\n",
       " 'xg__booster': None,\n",
       " 'xg__callbacks': None,\n",
       " 'xg__colsample_bylevel': None,\n",
       " 'xg__colsample_bynode': None,\n",
       " 'xg__colsample_bytree': None,\n",
       " 'xg__early_stopping_rounds': None,\n",
       " 'xg__enable_categorical': False,\n",
       " 'xg__eval_metric': None,\n",
       " 'xg__gamma': None,\n",
       " 'xg__gpu_id': None,\n",
       " 'xg__grow_policy': None,\n",
       " 'xg__importance_type': None,\n",
       " 'xg__interaction_constraints': None,\n",
       " 'xg__learning_rate': None,\n",
       " 'xg__max_bin': None,\n",
       " 'xg__max_cat_to_onehot': None,\n",
       " 'xg__max_delta_step': None,\n",
       " 'xg__max_depth': None,\n",
       " 'xg__max_leaves': None,\n",
       " 'xg__min_child_weight': None,\n",
       " 'xg__missing': nan,\n",
       " 'xg__monotone_constraints': None,\n",
       " 'xg__n_estimators': 100,\n",
       " 'xg__n_jobs': 3,\n",
       " 'xg__num_parallel_tree': None,\n",
       " 'xg__predictor': None,\n",
       " 'xg__random_state': None,\n",
       " 'xg__reg_alpha': None,\n",
       " 'xg__reg_lambda': None,\n",
       " 'xg__sampling_method': None,\n",
       " 'xg__scale_pos_weight': None,\n",
       " 'xg__subsample': None,\n",
       " 'xg__tree_method': None,\n",
       " 'xg__validate_parameters': None,\n",
       " 'xg__verbosity': None,\n",
       " 'xg__silent': False}"
      ]
     },
     "execution_count": 59,
     "metadata": {},
     "output_type": "execute_result"
    }
   ],
   "source": [
    "##################### DD. Grid Search #################\n",
    "\n",
    "# Specify xgboost parameter-range\n",
    "# Dictionary of parameters (16 combinations)\n",
    "# Syntax: {\n",
    "#          'transformerName__parameterName' : [ <listOfValues> ]\n",
    "#              }\n",
    "#\n",
    "# What parameters in the pipe are available for tuning\n",
    "\n",
    "print(\"\\n\\n--Which parameters can be tuned?--\\n\\n\")\n",
    "pipe_xg.get_params()\n"
   ]
  },
  {
   "cell_type": "markdown",
   "id": "4aa5d4fb",
   "metadata": {},
   "source": [
    "Now that we know which parameters can be tuned, specify parameter space\n",
    "\n"
   ]
  },
  {
   "cell_type": "code",
   "execution_count": 60,
   "id": "1e3f3445",
   "metadata": {},
   "outputs": [],
   "source": [
    "#  Define dictionary\n",
    "parameters = {'xg__learning_rate':  [0.03, 0.05], # learning rate decides what percentage\n",
    "                                                  #  of error is to be fitted by\n",
    "                                                  #   by next boosted tree.\n",
    "                                                  # See this answer in stackoverflow:\n",
    "                                                  # https://stats.stackexchange.com/questions/354484/why-does-xgboost-have-a-learning-rate\n",
    "                                                  # Coefficients of boosted trees decide,\n",
    "                                                  #  in the overall model or scheme, how much importance\n",
    "                                                  #   each boosted tree shall have. Values of these\n",
    "                                                  #    Coefficients are calculated by modeling\n",
    "                                                  #     algorithm and unlike learning rate are\n",
    "                                                  #      not hyperparameters. These Coefficients\n",
    "                                                  #       get adjusted by l1 and l2 parameters\n",
    "              'xg__n_estimators':   [200,  300],  # Number of boosted trees to fit\n",
    "                                                  # l1 and l2 specifications will change\n",
    "                                                  # the values of coeff of boosted trees\n",
    "                                                  # but not their numbers\n",
    "\n",
    "              'xg__max_depth':      [4,6],\n",
    "              'pca__n_components' : [9,10],\n",
    "              'xg__booster': ['gbtree','gblinear']\n",
    "              }                               # Total: 2 * 2 * 2 * 2"
   ]
  },
  {
   "cell_type": "code",
   "execution_count": 61,
   "id": "207c2113",
   "metadata": {},
   "outputs": [],
   "source": [
    "# 6.3.1 Define revised dictionary\n",
    "#       This takes 3.5 minutes\n",
    "parameters = {'xg__learning_rate':  [0.03, 0.05], # learning rate decides what percentage\n",
    "                                                  #  of error is to be fitted by\n",
    "                                                  #   by next boosted tree.\n",
    "                                                  # See this answer in stackoverflow:\n",
    "                                                  # https://stats.stackexchange.com/questions/354484/why-does-xgboost-have-a-learning-rate\n",
    "                                                  # Coefficients of boosted trees decide,\n",
    "                                                  #  in the overall model or scheme, how much importance\n",
    "                                                  #   each boosted tree shall have. Values of these\n",
    "                                                  #    Coefficients are calculated by modeling\n",
    "                                                  #     algorithm and unlike learning rate are\n",
    "                                                  #      not hyperparameters. These Coefficients\n",
    "                                                  #       get adjusted by l1 and l2 parameters\n",
    "               'xg__max_depth':      [4,6],\n",
    " \n",
    "              'pca__n_components' : [9,10],\n",
    "               }                               # Total: 2 * 2 * 2 * 2"
   ]
  },
  {
   "cell_type": "markdown",
   "id": "2dfff5cc",
   "metadata": {},
   "source": [
    "## Hyperparameter tuning both using Grid Search and Randomized Search"
   ]
  },
  {
   "cell_type": "markdown",
   "id": "c2e9e3a4",
   "metadata": {},
   "source": [
    "<b>Instantiate GridSearchCV class"
   ]
  },
  {
   "cell_type": "markdown",
   "id": "7811f3f9",
   "metadata": {},
   "source": [
    "<i><u>Note: Accuracy score is only for classification problems. For regression problems use: R2 Score, MSE (Mean Squared Error), RMSE (Root Mean Squared Error)."
   ]
  },
  {
   "cell_type": "code",
   "execution_count": 62,
   "id": "c3e1020f",
   "metadata": {},
   "outputs": [],
   "source": [
    "from sklearn.metrics import make_scorer\n",
    "from sklearn.metrics import mean_squared_error\n",
    "#define your own mse and set greater_is_better=False\n",
    "mse = make_scorer(mean_squared_error,greater_is_better=False)"
   ]
  },
  {
   "cell_type": "code",
   "execution_count": 63,
   "id": "5b2ee1de",
   "metadata": {},
   "outputs": [],
   "source": [
    "grid_obj = GridSearchCV(pipe_xg, \n",
    "                        parameters, \n",
    "                        cv=5,\n",
    "                        scoring=mse,\n",
    "                        n_jobs = -1, \n",
    "                        verbose=True)\n"
   ]
  },
  {
   "cell_type": "code",
   "execution_count": 64,
   "id": "c81c9815",
   "metadata": {},
   "outputs": [
    {
     "data": {
      "text/plain": [
       "0"
      ]
     },
     "execution_count": 64,
     "metadata": {},
     "output_type": "execute_result"
    }
   ],
   "source": [
    "import gc\n",
    "\n",
    "del X\n",
    "del data\n",
    "del y\n",
    "gc.collect()"
   ]
  },
  {
   "cell_type": "markdown",
   "id": "d34b1185",
   "metadata": {},
   "source": [
    "<b>Model fitting"
   ]
  },
  {
   "cell_type": "code",
   "execution_count": 65,
   "id": "879a8ca3",
   "metadata": {},
   "outputs": [
    {
     "name": "stdout",
     "output_type": "stream",
     "text": [
      "\n",
      "\n",
      "--Takes time...---\n",
      "\n",
      "Fitting 5 folds for each of 8 candidates, totalling 40 fits\n",
      "[02:49:44] WARNING: /Users/runner/work/xgboost/xgboost/python-package/build/temp.macosx-11.0-arm64-cpython-38/xgboost/src/learner.cc:627: \n",
      "Parameters: { \"silent\" } might not be used.\n",
      "\n",
      "  This could be a false alarm, with some parameters getting used by language bindings but\n",
      "  then being mistakenly passed down to XGBoost core, or some parameter actually being used\n",
      "  but getting flagged wrongly here. Please open an issue if you find any such cases.\n",
      "\n",
      "\n",
      "\n"
     ]
    },
    {
     "data": {
      "text/plain": [
       "0.7445032835006714"
      ]
     },
     "execution_count": 65,
     "metadata": {},
     "output_type": "execute_result"
    }
   ],
   "source": [
    "# Start fitting pipeline to data\n",
    "import time\n",
    "print(\"\\n\\n--Takes time...---\\n\")\n",
    "start = time.time()\n",
    "grid_obj.fit(X_train, y_train)\n",
    "end = time.time()\n",
    "print()\n",
    "(end - start)/60               "
   ]
  },
  {
   "cell_type": "markdown",
   "id": "817589cf",
   "metadata": {},
   "source": [
    "<b>Performance Scores\n"
   ]
  },
  {
   "cell_type": "code",
   "execution_count": 66,
   "id": "0c9918b4",
   "metadata": {},
   "outputs": [
    {
     "data": {
      "text/plain": [
       "'Best score: -0.061830590374713876 '"
      ]
     },
     "execution_count": 66,
     "metadata": {},
     "output_type": "execute_result"
    }
   ],
   "source": [
    "f\"Best score: {grid_obj.best_score_} \"         "
   ]
  },
  {
   "cell_type": "code",
   "execution_count": 67,
   "id": "49a60af2",
   "metadata": {},
   "outputs": [
    {
     "name": "stdout",
     "output_type": "stream",
     "text": [
      "\n"
     ]
    },
    {
     "data": {
      "text/plain": [
       "\"Best parameter set {'pca__n_components': 10, 'xg__learning_rate': 0.05, 'xg__max_depth': 6}\""
      ]
     },
     "execution_count": 67,
     "metadata": {},
     "output_type": "execute_result"
    }
   ],
   "source": [
    "print()\n",
    "f\"Best parameter set {grid_obj.best_params_}\""
   ]
  },
  {
   "cell_type": "code",
   "execution_count": 68,
   "id": "af93b900",
   "metadata": {},
   "outputs": [
    {
     "name": "stdout",
     "output_type": "stream",
     "text": [
      "--Few predictions--\n",
      "\n"
     ]
    },
    {
     "data": {
      "text/plain": [
       "array([0, 0, 0, 0])"
      ]
     },
     "execution_count": 68,
     "metadata": {},
     "output_type": "execute_result"
    }
   ],
   "source": [
    "#Make predictions using the best returned model\n",
    "y_pred = grid_obj.predict(X_test)\n",
    "print(\"--Few predictions--\\n\")\n",
    "y_pred[:4]\n"
   ]
  },
  {
   "cell_type": "code",
   "execution_count": 69,
   "id": "a53f5822",
   "metadata": {},
   "outputs": [
    {
     "name": "stdout",
     "output_type": "stream",
     "text": [
      "\n",
      "\n",
      "--mse--\n",
      "\n"
     ]
    },
    {
     "data": {
      "text/plain": [
       "6.221498371335505"
      ]
     },
     "execution_count": 69,
     "metadata": {},
     "output_type": "execute_result"
    }
   ],
   "source": [
    "#Accuracy score\n",
    "from sklearn.metrics import accuracy_score\n",
    "\n",
    "print(\"\\n\\n--mse--\\n\")\n",
    "accuracy = mean_squared_error(y_test, y_pred)\n",
    "accuracy * 100.0  "
   ]
  },
  {
   "cell_type": "markdown",
   "id": "e81c704a",
   "metadata": {},
   "source": [
    "<b>Feature importance\n"
   ]
  },
  {
   "cell_type": "code",
   "execution_count": 70,
   "id": "d1cfbb18",
   "metadata": {},
   "outputs": [
    {
     "name": "stdout",
     "output_type": "stream",
     "text": [
      "\n",
      "\n",
      "--How many features--\n",
      "\n"
     ]
    },
    {
     "data": {
      "text/plain": [
       "(10,)"
      ]
     },
     "execution_count": 70,
     "metadata": {},
     "output_type": "execute_result"
    }
   ],
   "source": [
    "# Get feature importances from GridSearchCV best fitted 'xg' model\n",
    "\n",
    "print(\"\\n\\n--How many features--\\n\")\n",
    "grid_obj.best_estimator_.named_steps[\"xg\"].feature_importances_.shape\n",
    "\n"
   ]
  },
  {
   "cell_type": "code",
   "execution_count": 71,
   "id": "68af66ea",
   "metadata": {},
   "outputs": [
    {
     "name": "stdout",
     "output_type": "stream",
     "text": [
      "\n",
      "\n",
      "---Feature importances---\n",
      "\n"
     ]
    },
    {
     "data": {
      "text/plain": [
       "array([0.3471643 , 0.06120922, 0.03491132, 0.02410244, 0.02277098,\n",
       "       0.02919808, 0.19554935, 0.0305516 , 0.19921125, 0.05533144],\n",
       "      dtype=float32)"
      ]
     },
     "execution_count": 71,
     "metadata": {},
     "output_type": "execute_result"
    }
   ],
   "source": [
    "print(\"\\n\\n---Feature importances---\\n\")\n",
    "grid_obj.best_estimator_.named_steps[\"xg\"].feature_importances_"
   ]
  },
  {
   "cell_type": "code",
   "execution_count": 72,
   "id": "dd87ec36",
   "metadata": {},
   "outputs": [
    {
     "data": {
      "text/html": [
       "<div>\n",
       "<style scoped>\n",
       "    .dataframe tbody tr th:only-of-type {\n",
       "        vertical-align: middle;\n",
       "    }\n",
       "\n",
       "    .dataframe tbody tr th {\n",
       "        vertical-align: top;\n",
       "    }\n",
       "\n",
       "    .dataframe thead th {\n",
       "        text-align: right;\n",
       "    }\n",
       "</style>\n",
       "<table border=\"1\" class=\"dataframe\">\n",
       "  <thead>\n",
       "    <tr style=\"text-align: right;\">\n",
       "      <th></th>\n",
       "      <th>imp</th>\n",
       "    </tr>\n",
       "  </thead>\n",
       "  <tbody>\n",
       "    <tr>\n",
       "      <th>state_code</th>\n",
       "      <td>0.022771</td>\n",
       "    </tr>\n",
       "    <tr>\n",
       "      <th>country_code</th>\n",
       "      <td>0.024102</td>\n",
       "    </tr>\n",
       "    <tr>\n",
       "      <th>city</th>\n",
       "      <td>0.029198</td>\n",
       "    </tr>\n",
       "    <tr>\n",
       "      <th>founded_at</th>\n",
       "      <td>0.030552</td>\n",
       "    </tr>\n",
       "    <tr>\n",
       "      <th>funding_total_usd</th>\n",
       "      <td>0.034911</td>\n",
       "    </tr>\n",
       "    <tr>\n",
       "      <th>growth</th>\n",
       "      <td>0.055331</td>\n",
       "    </tr>\n",
       "    <tr>\n",
       "      <th>market</th>\n",
       "      <td>0.061209</td>\n",
       "    </tr>\n",
       "    <tr>\n",
       "      <th>funding_rounds</th>\n",
       "      <td>0.195549</td>\n",
       "    </tr>\n",
       "    <tr>\n",
       "      <th>diff</th>\n",
       "      <td>0.199211</td>\n",
       "    </tr>\n",
       "    <tr>\n",
       "      <th>name</th>\n",
       "      <td>0.347164</td>\n",
       "    </tr>\n",
       "  </tbody>\n",
       "</table>\n",
       "</div>"
      ],
      "text/plain": [
       "                        imp\n",
       "state_code         0.022771\n",
       "country_code       0.024102\n",
       "city               0.029198\n",
       "founded_at         0.030552\n",
       "funding_total_usd  0.034911\n",
       "growth             0.055331\n",
       "market             0.061209\n",
       "funding_rounds     0.195549\n",
       "diff               0.199211\n",
       "name               0.347164"
      ]
     },
     "execution_count": 72,
     "metadata": {},
     "output_type": "execute_result"
    }
   ],
   "source": [
    "# Create a dataframe of feature importances\n",
    "# with names of columns and sorted by feature-imp\n",
    "imp_values = grid_obj.best_estimator_.named_steps[\"xg\"].feature_importances_\n",
    "\n",
    "df_imp = pd.DataFrame(\n",
    "                      data = imp_values,\n",
    "                      index = colnames,\n",
    "                      columns = [\"imp\"]\n",
    "                      ).sort_values(by = 'imp')\n",
    "\n",
    "\n",
    "df_imp"
   ]
  },
  {
   "cell_type": "code",
   "execution_count": 73,
   "id": "0be73087",
   "metadata": {},
   "outputs": [
    {
     "data": {
      "text/plain": [
       "['state_code', 'country_code', 'city', 'founded_at', 'funding_total_usd']"
      ]
     },
     "execution_count": 73,
     "metadata": {},
     "output_type": "execute_result"
    }
   ],
   "source": [
    "# First five columns with least feature importance are:\n",
    "\n",
    "list(df_imp.index.values[:5])"
   ]
  },
  {
   "cell_type": "markdown",
   "id": "417df1f6",
   "metadata": {},
   "source": [
    "<b>Retraining model with imp features\n",
    "\n"
   ]
  },
  {
   "cell_type": "code",
   "execution_count": 74,
   "id": "b0ecb9c8",
   "metadata": {},
   "outputs": [
    {
     "name": "stdout",
     "output_type": "stream",
     "text": [
      "Fitting 5 folds for each of 8 candidates, totalling 40 fits\n",
      "[02:50:28] WARNING: /Users/runner/work/xgboost/xgboost/python-package/build/temp.macosx-11.0-arm64-cpython-38/xgboost/src/learner.cc:627: \n",
      "Parameters: { \"silent\" } might not be used.\n",
      "\n",
      "  This could be a false alarm, with some parameters getting used by language bindings but\n",
      "  then being mistakenly passed down to XGBoost core, or some parameter actually being used\n",
      "  but getting flagged wrongly here. Please open an issue if you find any such cases.\n",
      "\n",
      "\n",
      "\n"
     ]
    },
    {
     "data": {
      "text/plain": [
       "0.7387657165527344"
      ]
     },
     "execution_count": 74,
     "metadata": {},
     "output_type": "execute_result"
    }
   ],
   "source": [
    "# Let us drop these from X_train and X_test\n",
    "Xtrain = X_train.drop(columns = list(df_imp.index.values[:5]))\n",
    "Xtest = X_test.drop(columns = list(df_imp.index.values[:5]))\n",
    "\n",
    "# Build model again with reduced dataset\n",
    "grid_obj_dr = GridSearchCV(pipe_xg, \n",
    "                        parameters, \n",
    "                        cv=5,\n",
    "                        scoring=mse,\n",
    "                        n_jobs = -1, \n",
    "                        verbose=True)\n",
    "# Fitting Model\n",
    "start = time.time()\n",
    "grid_obj_dr.fit(X_train, y_train)\n",
    "end = time.time()\n",
    "print()\n",
    "(end - start)/60 "
   ]
  },
  {
   "cell_type": "code",
   "execution_count": 75,
   "id": "865631bd",
   "metadata": {},
   "outputs": [
    {
     "name": "stdout",
     "output_type": "stream",
     "text": [
      "\n",
      "\n",
      "--mse--\n",
      "\n"
     ]
    },
    {
     "data": {
      "text/plain": [
       "6.221498371335505"
      ]
     },
     "execution_count": 75,
     "metadata": {},
     "output_type": "execute_result"
    }
   ],
   "source": [
    "# Mean Squared Error\n",
    "print(\"\\n\\n--mse--\\n\")\n",
    "accuracy = mean_squared_error(y_test, y_pred)\n",
    "accuracy * 100.0  "
   ]
  },
  {
   "cell_type": "markdown",
   "id": "5e21e118",
   "metadata": {},
   "source": [
    "<b>Random Search code to discover best pipeline parameters"
   ]
  },
  {
   "cell_type": "code",
   "execution_count": 76,
   "id": "86e483a4",
   "metadata": {},
   "outputs": [],
   "source": [
    "# Randomized Search\n",
    "\n",
    "# Tune parameters using randomized search\n",
    "# Hyperparameters to tune and their ranges\n",
    "parameters = {'xg__learning_rate':  (0, 1),\n",
    "              'xg__n_estimators':   range(50,300),\n",
    "              'xg__max_depth':      range(3,10),\n",
    "              'pca__n_components' : range(9,10)}"
   ]
  },
  {
   "cell_type": "code",
   "execution_count": 77,
   "id": "caff7ac7",
   "metadata": {},
   "outputs": [],
   "source": [
    "# Tune parameters using random search\n",
    "# Create the object first\n",
    "\n",
    "rs = RandomizedSearchCV(\n",
    "                          pipe_xg,\n",
    "                          param_distributions=parameters,\n",
    "                          scoring=mse,\n",
    "                          n_iter=4,           # Max combination of\n",
    "                                              # parameter to try. Default = 10\n",
    "                          verbose = 1,\n",
    "                          n_jobs = 2,          # Use parallel cpu threads\n",
    "                          cv = 2               # No of folds.\n",
    "                                              # So n_iter * cv combinations\n",
    "                        )"
   ]
  },
  {
   "cell_type": "markdown",
   "id": "54e87f55",
   "metadata": {},
   "source": [
    "<b>Start training RandomSearchCV object\n"
   ]
  },
  {
   "cell_type": "code",
   "execution_count": 78,
   "id": "5124d190",
   "metadata": {},
   "outputs": [
    {
     "name": "stdout",
     "output_type": "stream",
     "text": [
      "[02:49:03] WARNING: /Users/runner/work/xgboost/xgboost/python-package/build/temp.macosx-11.0-arm64-cpython-38/xgboost/src/learner.cc:627: \n",
      "Parameters: { \"silent\" } might not be used.\n",
      "\n",
      "  This could be a false alarm, with some parameters getting used by language bindings but\n",
      "  then being mistakenly passed down to XGBoost core, or some parameter actually being used\n",
      "  but getting flagged wrongly here. Please open an issue if you find any such cases.\n",
      "\n",
      "\n",
      "[02:49:09] WARNING: /Users/runner/work/xgboost/xgboost/python-package/build/temp.macosx-11.0-arm64-cpython-38/xgboost/src/learner.cc:627: \n",
      "Parameters: { \"silent\" } might not be used.\n",
      "\n",
      "  This could be a false alarm, with some parameters getting used by language bindings but\n",
      "  then being mistakenly passed down to XGBoost core, or some parameter actually being used\n",
      "  but getting flagged wrongly here. Please open an issue if you find any such cases.\n",
      "\n",
      "\n",
      "[02:49:18] WARNING: /Users/runner/work/xgboost/xgboost/python-package/build/temp.macosx-11.0-arm64-cpython-38/xgboost/src/learner.cc:627: \n",
      "Parameters: { \"silent\" } might not be used.\n",
      "\n",
      "  This could be a false alarm, with some parameters getting used by language bindings but\n",
      "  then being mistakenly passed down to XGBoost core, or some parameter actually being used\n",
      "  but getting flagged wrongly here. Please open an issue if you find any such cases.\n",
      "\n",
      "\n",
      "[02:49:24] WARNING: /Users/runner/work/xgboost/xgboost/python-package/build/temp.macosx-11.0-arm64-cpython-38/xgboost/src/learner.cc:627: \n",
      "Parameters: { \"silent\" } might not be used.\n",
      "\n",
      "  This could be a false alarm, with some parameters getting used by language bindings but\n",
      "  then being mistakenly passed down to XGBoost core, or some parameter actually being used\n",
      "  but getting flagged wrongly here. Please open an issue if you find any such cases.\n",
      "\n",
      "\n",
      "[02:49:35] WARNING: /Users/runner/work/xgboost/xgboost/python-package/build/temp.macosx-11.0-arm64-cpython-38/xgboost/src/learner.cc:627: \n",
      "Parameters: { \"silent\" } might not be used.\n",
      "\n",
      "  This could be a false alarm, with some parameters getting used by language bindings but\n",
      "  then being mistakenly passed down to XGBoost core, or some parameter actually being used\n",
      "  but getting flagged wrongly here. Please open an issue if you find any such cases.\n",
      "\n",
      "\n",
      "[02:49:47] WARNING: /Users/runner/work/xgboost/xgboost/python-package/build/temp.macosx-11.0-arm64-cpython-38/xgboost/src/learner.cc:627: \n",
      "Parameters: { \"silent\" } might not be used.\n",
      "\n",
      "  This could be a false alarm, with some parameters getting used by language bindings but\n",
      "  then being mistakenly passed down to XGBoost core, or some parameter actually being used\n",
      "  but getting flagged wrongly here. Please open an issue if you find any such cases.\n",
      "\n",
      "\n",
      "[02:49:54] WARNING: /Users/runner/work/xgboost/xgboost/python-package/build/temp.macosx-11.0-arm64-cpython-38/xgboost/src/learner.cc:627: \n",
      "Parameters: { \"silent\" } might not be used.\n",
      "\n",
      "  This could be a false alarm, with some parameters getting used by language bindings but\n",
      "  then being mistakenly passed down to XGBoost core, or some parameter actually being used\n",
      "  but getting flagged wrongly here. Please open an issue if you find any such cases.\n",
      "\n",
      "\n",
      "[02:50:00] WARNING: /Users/runner/work/xgboost/xgboost/python-package/build/temp.macosx-11.0-arm64-cpython-38/xgboost/src/learner.cc:627: \n",
      "Parameters: { \"silent\" } might not be used.\n",
      "\n",
      "  This could be a false alarm, with some parameters getting used by language bindings but\n",
      "  then being mistakenly passed down to XGBoost core, or some parameter actually being used\n",
      "  but getting flagged wrongly here. Please open an issue if you find any such cases.\n",
      "\n",
      "\n",
      "[02:50:10] WARNING: /Users/runner/work/xgboost/xgboost/python-package/build/temp.macosx-11.0-arm64-cpython-38/xgboost/src/learner.cc:627: \n",
      "Parameters: { \"silent\" } might not be used.\n",
      "\n",
      "  This could be a false alarm, with some parameters getting used by language bindings but\n",
      "  then being mistakenly passed down to XGBoost core, or some parameter actually being used\n",
      "  but getting flagged wrongly here. Please open an issue if you find any such cases.\n",
      "\n",
      "\n",
      "[02:50:16] WARNING: /Users/runner/work/xgboost/xgboost/python-package/build/temp.macosx-11.0-arm64-cpython-38/xgboost/src/learner.cc:627: \n",
      "Parameters: { \"silent\" } might not be used.\n",
      "\n",
      "  This could be a false alarm, with some parameters getting used by language bindings but\n",
      "  then being mistakenly passed down to XGBoost core, or some parameter actually being used\n",
      "  but getting flagged wrongly here. Please open an issue if you find any such cases.\n",
      "\n",
      "\n",
      "[02:49:03] WARNING: /Users/runner/work/xgboost/xgboost/python-package/build/temp.macosx-11.0-arm64-cpython-38/xgboost/src/learner.cc:627: \n",
      "Parameters: { \"silent\" } might not be used.\n",
      "\n",
      "  This could be a false alarm, with some parameters getting used by language bindings but\n",
      "  then being mistakenly passed down to XGBoost core, or some parameter actually being used\n",
      "  but getting flagged wrongly here. Please open an issue if you find any such cases.\n",
      "\n",
      "\n",
      "[02:49:09] WARNING: /Users/runner/work/xgboost/xgboost/python-package/build/temp.macosx-11.0-arm64-cpython-38/xgboost/src/learner.cc:627: \n",
      "Parameters: { \"silent\" } might not be used.\n",
      "\n",
      "  This could be a false alarm, with some parameters getting used by language bindings but\n",
      "  then being mistakenly passed down to XGBoost core, or some parameter actually being used\n",
      "  but getting flagged wrongly here. Please open an issue if you find any such cases.\n",
      "\n",
      "\n",
      "[02:49:18] WARNING: /Users/runner/work/xgboost/xgboost/python-package/build/temp.macosx-11.0-arm64-cpython-38/xgboost/src/learner.cc:627: \n",
      "Parameters: { \"silent\" } might not be used.\n",
      "\n",
      "  This could be a false alarm, with some parameters getting used by language bindings but\n",
      "  then being mistakenly passed down to XGBoost core, or some parameter actually being used\n",
      "  but getting flagged wrongly here. Please open an issue if you find any such cases.\n",
      "\n",
      "\n",
      "[02:49:24] WARNING: /Users/runner/work/xgboost/xgboost/python-package/build/temp.macosx-11.0-arm64-cpython-38/xgboost/src/learner.cc:627: \n",
      "Parameters: { \"silent\" } might not be used.\n",
      "\n",
      "  This could be a false alarm, with some parameters getting used by language bindings but\n",
      "  then being mistakenly passed down to XGBoost core, or some parameter actually being used\n",
      "  but getting flagged wrongly here. Please open an issue if you find any such cases.\n",
      "\n",
      "\n",
      "[02:49:35] WARNING: /Users/runner/work/xgboost/xgboost/python-package/build/temp.macosx-11.0-arm64-cpython-38/xgboost/src/learner.cc:627: \n",
      "Parameters: { \"silent\" } might not be used.\n",
      "\n",
      "  This could be a false alarm, with some parameters getting used by language bindings but\n",
      "  then being mistakenly passed down to XGBoost core, or some parameter actually being used\n",
      "  but getting flagged wrongly here. Please open an issue if you find any such cases.\n",
      "\n",
      "\n",
      "[02:49:47] WARNING: /Users/runner/work/xgboost/xgboost/python-package/build/temp.macosx-11.0-arm64-cpython-38/xgboost/src/learner.cc:627: \n",
      "Parameters: { \"silent\" } might not be used.\n",
      "\n",
      "  This could be a false alarm, with some parameters getting used by language bindings but\n",
      "  then being mistakenly passed down to XGBoost core, or some parameter actually being used\n",
      "  but getting flagged wrongly here. Please open an issue if you find any such cases.\n",
      "\n",
      "\n",
      "[02:49:54] WARNING: /Users/runner/work/xgboost/xgboost/python-package/build/temp.macosx-11.0-arm64-cpython-38/xgboost/src/learner.cc:627: \n",
      "Parameters: { \"silent\" } might not be used.\n",
      "\n",
      "  This could be a false alarm, with some parameters getting used by language bindings but\n",
      "  then being mistakenly passed down to XGBoost core, or some parameter actually being used\n",
      "  but getting flagged wrongly here. Please open an issue if you find any such cases.\n",
      "\n",
      "\n",
      "[02:50:04] WARNING: /Users/runner/work/xgboost/xgboost/python-package/build/temp.macosx-11.0-arm64-cpython-38/xgboost/src/learner.cc:627: \n",
      "Parameters: { \"silent\" } might not be used.\n",
      "\n",
      "  This could be a false alarm, with some parameters getting used by language bindings but\n",
      "  then being mistakenly passed down to XGBoost core, or some parameter actually being used\n",
      "  but getting flagged wrongly here. Please open an issue if you find any such cases.\n",
      "\n",
      "\n",
      "[02:50:14] WARNING: /Users/runner/work/xgboost/xgboost/python-package/build/temp.macosx-11.0-arm64-cpython-38/xgboost/src/learner.cc:627: \n",
      "Parameters: { \"silent\" } might not be used.\n",
      "\n",
      "  This could be a false alarm, with some parameters getting used by language bindings but\n",
      "  then being mistakenly passed down to XGBoost core, or some parameter actually being used\n",
      "  but getting flagged wrongly here. Please open an issue if you find any such cases.\n",
      "\n",
      "\n",
      "[02:50:20] WARNING: /Users/runner/work/xgboost/xgboost/python-package/build/temp.macosx-11.0-arm64-cpython-38/xgboost/src/learner.cc:627: \n",
      "Parameters: { \"silent\" } might not be used.\n",
      "\n",
      "  This could be a false alarm, with some parameters getting used by language bindings but\n",
      "  then being mistakenly passed down to XGBoost core, or some parameter actually being used\n",
      "  but getting flagged wrongly here. Please open an issue if you find any such cases.\n",
      "\n",
      "\n",
      "[02:49:03] WARNING: /Users/runner/work/xgboost/xgboost/python-package/build/temp.macosx-11.0-arm64-cpython-38/xgboost/src/learner.cc:627: \n",
      "Parameters: { \"silent\" } might not be used.\n",
      "\n",
      "  This could be a false alarm, with some parameters getting used by language bindings but\n",
      "  then being mistakenly passed down to XGBoost core, or some parameter actually being used\n",
      "  but getting flagged wrongly here. Please open an issue if you find any such cases.\n",
      "\n",
      "\n",
      "[02:49:09] WARNING: /Users/runner/work/xgboost/xgboost/python-package/build/temp.macosx-11.0-arm64-cpython-38/xgboost/src/learner.cc:627: \n",
      "Parameters: { \"silent\" } might not be used.\n",
      "\n",
      "  This could be a false alarm, with some parameters getting used by language bindings but\n",
      "  then being mistakenly passed down to XGBoost core, or some parameter actually being used\n",
      "  but getting flagged wrongly here. Please open an issue if you find any such cases.\n",
      "\n",
      "\n",
      "[02:49:14] WARNING: /Users/runner/work/xgboost/xgboost/python-package/build/temp.macosx-11.0-arm64-cpython-38/xgboost/src/learner.cc:627: \n",
      "Parameters: { \"silent\" } might not be used.\n",
      "\n",
      "  This could be a false alarm, with some parameters getting used by language bindings but\n",
      "  then being mistakenly passed down to XGBoost core, or some parameter actually being used\n",
      "  but getting flagged wrongly here. Please open an issue if you find any such cases.\n",
      "\n",
      "\n",
      "[02:49:24] WARNING: /Users/runner/work/xgboost/xgboost/python-package/build/temp.macosx-11.0-arm64-cpython-38/xgboost/src/learner.cc:627: \n",
      "Parameters: { \"silent\" } might not be used.\n",
      "\n",
      "  This could be a false alarm, with some parameters getting used by language bindings but\n",
      "  then being mistakenly passed down to XGBoost core, or some parameter actually being used\n",
      "  but getting flagged wrongly here. Please open an issue if you find any such cases.\n",
      "\n",
      "\n",
      "[02:49:35] WARNING: /Users/runner/work/xgboost/xgboost/python-package/build/temp.macosx-11.0-arm64-cpython-38/xgboost/src/learner.cc:627: \n",
      "Parameters: { \"silent\" } might not be used.\n",
      "\n",
      "  This could be a false alarm, with some parameters getting used by language bindings but\n",
      "  then being mistakenly passed down to XGBoost core, or some parameter actually being used\n",
      "  but getting flagged wrongly here. Please open an issue if you find any such cases.\n",
      "\n",
      "\n",
      "[02:49:47] WARNING: /Users/runner/work/xgboost/xgboost/python-package/build/temp.macosx-11.0-arm64-cpython-38/xgboost/src/learner.cc:627: \n",
      "Parameters: { \"silent\" } might not be used.\n",
      "\n",
      "  This could be a false alarm, with some parameters getting used by language bindings but\n",
      "  then being mistakenly passed down to XGBoost core, or some parameter actually being used\n",
      "  but getting flagged wrongly here. Please open an issue if you find any such cases.\n",
      "\n",
      "\n",
      "[02:49:54] WARNING: /Users/runner/work/xgboost/xgboost/python-package/build/temp.macosx-11.0-arm64-cpython-38/xgboost/src/learner.cc:627: \n",
      "Parameters: { \"silent\" } might not be used.\n",
      "\n",
      "  This could be a false alarm, with some parameters getting used by language bindings but\n",
      "  then being mistakenly passed down to XGBoost core, or some parameter actually being used\n",
      "  but getting flagged wrongly here. Please open an issue if you find any such cases.\n",
      "\n",
      "\n",
      "[02:50:00] WARNING: /Users/runner/work/xgboost/xgboost/python-package/build/temp.macosx-11.0-arm64-cpython-38/xgboost/src/learner.cc:627: \n",
      "Parameters: { \"silent\" } might not be used.\n",
      "\n",
      "  This could be a false alarm, with some parameters getting used by language bindings but\n",
      "  then being mistakenly passed down to XGBoost core, or some parameter actually being used\n",
      "  but getting flagged wrongly here. Please open an issue if you find any such cases.\n",
      "\n",
      "\n",
      "[02:50:10] WARNING: /Users/runner/work/xgboost/xgboost/python-package/build/temp.macosx-11.0-arm64-cpython-38/xgboost/src/learner.cc:627: \n",
      "Parameters: { \"silent\" } might not be used.\n",
      "\n",
      "  This could be a false alarm, with some parameters getting used by language bindings but\n",
      "  then being mistakenly passed down to XGBoost core, or some parameter actually being used\n",
      "  but getting flagged wrongly here. Please open an issue if you find any such cases.\n",
      "\n",
      "\n",
      "[02:50:20] WARNING: /Users/runner/work/xgboost/xgboost/python-package/build/temp.macosx-11.0-arm64-cpython-38/xgboost/src/learner.cc:627: \n",
      "Parameters: { \"silent\" } might not be used.\n",
      "\n",
      "  This could be a false alarm, with some parameters getting used by language bindings but\n",
      "  then being mistakenly passed down to XGBoost core, or some parameter actually being used\n",
      "  but getting flagged wrongly here. Please open an issue if you find any such cases.\n",
      "\n",
      "\n",
      "[02:49:03] WARNING: /Users/runner/work/xgboost/xgboost/python-package/build/temp.macosx-11.0-arm64-cpython-38/xgboost/src/learner.cc:627: \n",
      "Parameters: { \"silent\" } might not be used.\n",
      "\n",
      "  This could be a false alarm, with some parameters getting used by language bindings but\n",
      "  then being mistakenly passed down to XGBoost core, or some parameter actually being used\n",
      "  but getting flagged wrongly here. Please open an issue if you find any such cases.\n",
      "\n",
      "\n",
      "[02:49:12] WARNING: /Users/runner/work/xgboost/xgboost/python-package/build/temp.macosx-11.0-arm64-cpython-38/xgboost/src/learner.cc:627: \n",
      "Parameters: { \"silent\" } might not be used.\n",
      "\n",
      "  This could be a false alarm, with some parameters getting used by language bindings but\n",
      "  then being mistakenly passed down to XGBoost core, or some parameter actually being used\n",
      "  but getting flagged wrongly here. Please open an issue if you find any such cases.\n",
      "\n",
      "\n",
      "[02:49:18] WARNING: /Users/runner/work/xgboost/xgboost/python-package/build/temp.macosx-11.0-arm64-cpython-38/xgboost/src/learner.cc:627: \n",
      "Parameters: { \"silent\" } might not be used.\n",
      "\n",
      "  This could be a false alarm, with some parameters getting used by language bindings but\n",
      "  then being mistakenly passed down to XGBoost core, or some parameter actually being used\n",
      "  but getting flagged wrongly here. Please open an issue if you find any such cases.\n",
      "\n",
      "\n",
      "[02:49:28] WARNING: /Users/runner/work/xgboost/xgboost/python-package/build/temp.macosx-11.0-arm64-cpython-38/xgboost/src/learner.cc:627: \n",
      "Parameters: { \"silent\" } might not be used.\n",
      "\n",
      "  This could be a false alarm, with some parameters getting used by language bindings but\n",
      "  then being mistakenly passed down to XGBoost core, or some parameter actually being used\n",
      "  but getting flagged wrongly here. Please open an issue if you find any such cases.\n",
      "\n",
      "\n",
      "[02:49:34] WARNING: /Users/runner/work/xgboost/xgboost/python-package/build/temp.macosx-11.0-arm64-cpython-38/xgboost/src/learner.cc:627: \n",
      "Parameters: { \"silent\" } might not be used.\n",
      "\n",
      "  This could be a false alarm, with some parameters getting used by language bindings but\n",
      "  then being mistakenly passed down to XGBoost core, or some parameter actually being used\n",
      "  but getting flagged wrongly here. Please open an issue if you find any such cases.\n",
      "\n",
      "\n",
      "[02:49:47] WARNING: /Users/runner/work/xgboost/xgboost/python-package/build/temp.macosx-11.0-arm64-cpython-38/xgboost/src/learner.cc:627: \n",
      "Parameters: { \"silent\" } might not be used.\n",
      "\n",
      "  This could be a false alarm, with some parameters getting used by language bindings but\n",
      "  then being mistakenly passed down to XGBoost core, or some parameter actually being used\n",
      "  but getting flagged wrongly here. Please open an issue if you find any such cases.\n",
      "\n",
      "\n",
      "[02:49:58] WARNING: /Users/runner/work/xgboost/xgboost/python-package/build/temp.macosx-11.0-arm64-cpython-38/xgboost/src/learner.cc:627: \n",
      "Parameters: { \"silent\" } might not be used.\n",
      "\n",
      "  This could be a false alarm, with some parameters getting used by language bindings but\n",
      "  then being mistakenly passed down to XGBoost core, or some parameter actually being used\n",
      "  but getting flagged wrongly here. Please open an issue if you find any such cases.\n",
      "\n",
      "\n",
      "[02:50:04] WARNING: /Users/runner/work/xgboost/xgboost/python-package/build/temp.macosx-11.0-arm64-cpython-38/xgboost/src/learner.cc:627: \n",
      "Parameters: { \"silent\" } might not be used.\n",
      "\n",
      "  This could be a false alarm, with some parameters getting used by language bindings but\n",
      "  then being mistakenly passed down to XGBoost core, or some parameter actually being used\n",
      "  but getting flagged wrongly here. Please open an issue if you find any such cases.\n",
      "\n",
      "\n",
      "[02:50:10] WARNING: /Users/runner/work/xgboost/xgboost/python-package/build/temp.macosx-11.0-arm64-cpython-38/xgboost/src/learner.cc:627: \n",
      "Parameters: { \"silent\" } might not be used.\n",
      "\n",
      "  This could be a false alarm, with some parameters getting used by language bindings but\n",
      "  then being mistakenly passed down to XGBoost core, or some parameter actually being used\n",
      "  but getting flagged wrongly here. Please open an issue if you find any such cases.\n",
      "\n",
      "\n",
      "[02:50:21] WARNING: /Users/runner/work/xgboost/xgboost/python-package/build/temp.macosx-11.0-arm64-cpython-38/xgboost/src/learner.cc:627: \n",
      "Parameters: { \"silent\" } might not be used.\n",
      "\n",
      "  This could be a false alarm, with some parameters getting used by language bindings but\n",
      "  then being mistakenly passed down to XGBoost core, or some parameter actually being used\n",
      "  but getting flagged wrongly here. Please open an issue if you find any such cases.\n",
      "\n",
      "\n",
      "[02:49:03] WARNING: /Users/runner/work/xgboost/xgboost/python-package/build/temp.macosx-11.0-arm64-cpython-38/xgboost/src/learner.cc:627: \n",
      "Parameters: { \"silent\" } might not be used.\n",
      "\n",
      "  This could be a false alarm, with some parameters getting used by language bindings but\n",
      "  then being mistakenly passed down to XGBoost core, or some parameter actually being used\n",
      "  but getting flagged wrongly here. Please open an issue if you find any such cases.\n",
      "\n",
      "\n",
      "[02:49:09] WARNING: /Users/runner/work/xgboost/xgboost/python-package/build/temp.macosx-11.0-arm64-cpython-38/xgboost/src/learner.cc:627: \n",
      "Parameters: { \"silent\" } might not be used.\n",
      "\n",
      "  This could be a false alarm, with some parameters getting used by language bindings but\n",
      "  then being mistakenly passed down to XGBoost core, or some parameter actually being used\n",
      "  but getting flagged wrongly here. Please open an issue if you find any such cases.\n",
      "\n",
      "\n",
      "[02:49:14] WARNING: /Users/runner/work/xgboost/xgboost/python-package/build/temp.macosx-11.0-arm64-cpython-38/xgboost/src/learner.cc:627: \n",
      "Parameters: { \"silent\" } might not be used.\n",
      "\n",
      "  This could be a false alarm, with some parameters getting used by language bindings but\n",
      "  then being mistakenly passed down to XGBoost core, or some parameter actually being used\n",
      "  but getting flagged wrongly here. Please open an issue if you find any such cases.\n",
      "\n",
      "\n",
      "[02:49:24] WARNING: /Users/runner/work/xgboost/xgboost/python-package/build/temp.macosx-11.0-arm64-cpython-38/xgboost/src/learner.cc:627: \n",
      "Parameters: { \"silent\" } might not be used.\n",
      "\n",
      "  This could be a false alarm, with some parameters getting used by language bindings but\n",
      "  then being mistakenly passed down to XGBoost core, or some parameter actually being used\n",
      "  but getting flagged wrongly here. Please open an issue if you find any such cases.\n",
      "\n",
      "\n",
      "[02:49:35] WARNING: /Users/runner/work/xgboost/xgboost/python-package/build/temp.macosx-11.0-arm64-cpython-38/xgboost/src/learner.cc:627: \n",
      "Parameters: { \"silent\" } might not be used.\n",
      "\n",
      "  This could be a false alarm, with some parameters getting used by language bindings but\n",
      "  then being mistakenly passed down to XGBoost core, or some parameter actually being used\n",
      "  but getting flagged wrongly here. Please open an issue if you find any such cases.\n",
      "\n",
      "\n",
      "[02:49:47] WARNING: /Users/runner/work/xgboost/xgboost/python-package/build/temp.macosx-11.0-arm64-cpython-38/xgboost/src/learner.cc:627: \n",
      "Parameters: { \"silent\" } might not be used.\n",
      "\n",
      "  This could be a false alarm, with some parameters getting used by language bindings but\n",
      "  then being mistakenly passed down to XGBoost core, or some parameter actually being used\n",
      "  but getting flagged wrongly here. Please open an issue if you find any such cases.\n",
      "\n",
      "\n",
      "[02:49:54] WARNING: /Users/runner/work/xgboost/xgboost/python-package/build/temp.macosx-11.0-arm64-cpython-38/xgboost/src/learner.cc:627: \n",
      "Parameters: { \"silent\" } might not be used.\n",
      "\n",
      "  This could be a false alarm, with some parameters getting used by language bindings but\n",
      "  then being mistakenly passed down to XGBoost core, or some parameter actually being used\n",
      "  but getting flagged wrongly here. Please open an issue if you find any such cases.\n",
      "\n",
      "\n",
      "[02:50:04] WARNING: /Users/runner/work/xgboost/xgboost/python-package/build/temp.macosx-11.0-arm64-cpython-38/xgboost/src/learner.cc:627: \n",
      "Parameters: { \"silent\" } might not be used.\n",
      "\n",
      "  This could be a false alarm, with some parameters getting used by language bindings but\n",
      "  then being mistakenly passed down to XGBoost core, or some parameter actually being used\n",
      "  but getting flagged wrongly here. Please open an issue if you find any such cases.\n",
      "\n",
      "\n",
      "[02:50:10] WARNING: /Users/runner/work/xgboost/xgboost/python-package/build/temp.macosx-11.0-arm64-cpython-38/xgboost/src/learner.cc:627: \n",
      "Parameters: { \"silent\" } might not be used.\n",
      "\n",
      "  This could be a false alarm, with some parameters getting used by language bindings but\n",
      "  then being mistakenly passed down to XGBoost core, or some parameter actually being used\n",
      "  but getting flagged wrongly here. Please open an issue if you find any such cases.\n",
      "\n",
      "\n",
      "[02:50:20] WARNING: /Users/runner/work/xgboost/xgboost/python-package/build/temp.macosx-11.0-arm64-cpython-38/xgboost/src/learner.cc:627: \n",
      "Parameters: { \"silent\" } might not be used.\n",
      "\n",
      "  This could be a false alarm, with some parameters getting used by language bindings but\n",
      "  then being mistakenly passed down to XGBoost core, or some parameter actually being used\n",
      "  but getting flagged wrongly here. Please open an issue if you find any such cases.\n",
      "\n",
      "\n",
      "[02:49:03] WARNING: /Users/runner/work/xgboost/xgboost/python-package/build/temp.macosx-11.0-arm64-cpython-38/xgboost/src/learner.cc:627: \n",
      "Parameters: { \"silent\" } might not be used.\n",
      "\n",
      "  This could be a false alarm, with some parameters getting used by language bindings but\n",
      "  then being mistakenly passed down to XGBoost core, or some parameter actually being used\n",
      "  but getting flagged wrongly here. Please open an issue if you find any such cases.\n",
      "\n",
      "\n",
      "[02:49:09] WARNING: /Users/runner/work/xgboost/xgboost/python-package/build/temp.macosx-11.0-arm64-cpython-38/xgboost/src/learner.cc:627: \n",
      "Parameters: { \"silent\" } might not be used.\n",
      "\n",
      "  This could be a false alarm, with some parameters getting used by language bindings but\n",
      "  then being mistakenly passed down to XGBoost core, or some parameter actually being used\n",
      "  but getting flagged wrongly here. Please open an issue if you find any such cases.\n",
      "\n",
      "\n",
      "[02:49:14] WARNING: /Users/runner/work/xgboost/xgboost/python-package/build/temp.macosx-11.0-arm64-cpython-38/xgboost/src/learner.cc:627: \n",
      "Parameters: { \"silent\" } might not be used.\n",
      "\n",
      "  This could be a false alarm, with some parameters getting used by language bindings but\n",
      "  then being mistakenly passed down to XGBoost core, or some parameter actually being used\n",
      "  but getting flagged wrongly here. Please open an issue if you find any such cases.\n",
      "\n",
      "\n",
      "[02:49:24] WARNING: /Users/runner/work/xgboost/xgboost/python-package/build/temp.macosx-11.0-arm64-cpython-38/xgboost/src/learner.cc:627: \n",
      "Parameters: { \"silent\" } might not be used.\n",
      "\n",
      "  This could be a false alarm, with some parameters getting used by language bindings but\n",
      "  then being mistakenly passed down to XGBoost core, or some parameter actually being used\n",
      "  but getting flagged wrongly here. Please open an issue if you find any such cases.\n",
      "\n",
      "\n",
      "[02:49:30] WARNING: /Users/runner/work/xgboost/xgboost/python-package/build/temp.macosx-11.0-arm64-cpython-38/xgboost/src/learner.cc:627: \n",
      "Parameters: { \"silent\" } might not be used.\n",
      "\n",
      "  This could be a false alarm, with some parameters getting used by language bindings but\n",
      "  then being mistakenly passed down to XGBoost core, or some parameter actually being used\n",
      "  but getting flagged wrongly here. Please open an issue if you find any such cases.\n",
      "\n",
      "\n",
      "[02:49:47] WARNING: /Users/runner/work/xgboost/xgboost/python-package/build/temp.macosx-11.0-arm64-cpython-38/xgboost/src/learner.cc:627: \n",
      "Parameters: { \"silent\" } might not be used.\n",
      "\n",
      "  This could be a false alarm, with some parameters getting used by language bindings but\n",
      "  then being mistakenly passed down to XGBoost core, or some parameter actually being used\n",
      "  but getting flagged wrongly here. Please open an issue if you find any such cases.\n",
      "\n",
      "\n",
      "[02:49:54] WARNING: /Users/runner/work/xgboost/xgboost/python-package/build/temp.macosx-11.0-arm64-cpython-38/xgboost/src/learner.cc:627: \n",
      "Parameters: { \"silent\" } might not be used.\n",
      "\n",
      "  This could be a false alarm, with some parameters getting used by language bindings but\n",
      "  then being mistakenly passed down to XGBoost core, or some parameter actually being used\n",
      "  but getting flagged wrongly here. Please open an issue if you find any such cases.\n",
      "\n",
      "\n",
      "[02:50:00] WARNING: /Users/runner/work/xgboost/xgboost/python-package/build/temp.macosx-11.0-arm64-cpython-38/xgboost/src/learner.cc:627: \n",
      "Parameters: { \"silent\" } might not be used.\n",
      "\n",
      "  This could be a false alarm, with some parameters getting used by language bindings but\n",
      "  then being mistakenly passed down to XGBoost core, or some parameter actually being used\n",
      "  but getting flagged wrongly here. Please open an issue if you find any such cases.\n",
      "\n",
      "\n",
      "[02:50:10] WARNING: /Users/runner/work/xgboost/xgboost/python-package/build/temp.macosx-11.0-arm64-cpython-38/xgboost/src/learner.cc:627: \n",
      "Parameters: { \"silent\" } might not be used.\n",
      "\n",
      "  This could be a false alarm, with some parameters getting used by language bindings but\n",
      "  then being mistakenly passed down to XGBoost core, or some parameter actually being used\n",
      "  but getting flagged wrongly here. Please open an issue if you find any such cases.\n",
      "\n",
      "\n",
      "[02:50:20] WARNING: /Users/runner/work/xgboost/xgboost/python-package/build/temp.macosx-11.0-arm64-cpython-38/xgboost/src/learner.cc:627: \n",
      "Parameters: { \"silent\" } might not be used.\n",
      "\n",
      "  This could be a false alarm, with some parameters getting used by language bindings but\n",
      "  then being mistakenly passed down to XGBoost core, or some parameter actually being used\n",
      "  but getting flagged wrongly here. Please open an issue if you find any such cases.\n",
      "\n",
      "\n",
      "[02:49:03] WARNING: /Users/runner/work/xgboost/xgboost/python-package/build/temp.macosx-11.0-arm64-cpython-38/xgboost/src/learner.cc:627: \n",
      "Parameters: { \"silent\" } might not be used.\n",
      "\n",
      "  This could be a false alarm, with some parameters getting used by language bindings but\n",
      "  then being mistakenly passed down to XGBoost core, or some parameter actually being used\n",
      "  but getting flagged wrongly here. Please open an issue if you find any such cases.\n",
      "\n",
      "\n",
      "[02:49:13] WARNING: /Users/runner/work/xgboost/xgboost/python-package/build/temp.macosx-11.0-arm64-cpython-38/xgboost/src/learner.cc:627: \n",
      "Parameters: { \"silent\" } might not be used.\n",
      "\n",
      "  This could be a false alarm, with some parameters getting used by language bindings but\n",
      "  then being mistakenly passed down to XGBoost core, or some parameter actually being used\n",
      "  but getting flagged wrongly here. Please open an issue if you find any such cases.\n",
      "\n",
      "\n",
      "[02:49:22] WARNING: /Users/runner/work/xgboost/xgboost/python-package/build/temp.macosx-11.0-arm64-cpython-38/xgboost/src/learner.cc:627: \n",
      "Parameters: { \"silent\" } might not be used.\n",
      "\n",
      "  This could be a false alarm, with some parameters getting used by language bindings but\n",
      "  then being mistakenly passed down to XGBoost core, or some parameter actually being used\n",
      "  but getting flagged wrongly here. Please open an issue if you find any such cases.\n",
      "\n",
      "\n",
      "[02:49:29] WARNING: /Users/runner/work/xgboost/xgboost/python-package/build/temp.macosx-11.0-arm64-cpython-38/xgboost/src/learner.cc:627: \n",
      "Parameters: { \"silent\" } might not be used.\n",
      "\n",
      "  This could be a false alarm, with some parameters getting used by language bindings but\n",
      "  then being mistakenly passed down to XGBoost core, or some parameter actually being used\n",
      "  but getting flagged wrongly here. Please open an issue if you find any such cases.\n",
      "\n",
      "\n",
      "[02:49:35] WARNING: /Users/runner/work/xgboost/xgboost/python-package/build/temp.macosx-11.0-arm64-cpython-38/xgboost/src/learner.cc:627: \n",
      "Parameters: { \"silent\" } might not be used.\n",
      "\n",
      "  This could be a false alarm, with some parameters getting used by language bindings but\n",
      "  then being mistakenly passed down to XGBoost core, or some parameter actually being used\n",
      "  but getting flagged wrongly here. Please open an issue if you find any such cases.\n",
      "\n",
      "\n",
      "[02:49:47] WARNING: /Users/runner/work/xgboost/xgboost/python-package/build/temp.macosx-11.0-arm64-cpython-38/xgboost/src/learner.cc:627: \n",
      "Parameters: { \"silent\" } might not be used.\n",
      "\n",
      "  This could be a false alarm, with some parameters getting used by language bindings but\n",
      "  then being mistakenly passed down to XGBoost core, or some parameter actually being used\n",
      "  but getting flagged wrongly here. Please open an issue if you find any such cases.\n",
      "\n",
      "\n",
      "[02:49:58] WARNING: /Users/runner/work/xgboost/xgboost/python-package/build/temp.macosx-11.0-arm64-cpython-38/xgboost/src/learner.cc:627: \n",
      "Parameters: { \"silent\" } might not be used.\n",
      "\n",
      "  This could be a false alarm, with some parameters getting used by language bindings but\n",
      "  then being mistakenly passed down to XGBoost core, or some parameter actually being used\n",
      "  but getting flagged wrongly here. Please open an issue if you find any such cases.\n",
      "\n",
      "\n",
      "[02:50:08] WARNING: /Users/runner/work/xgboost/xgboost/python-package/build/temp.macosx-11.0-arm64-cpython-38/xgboost/src/learner.cc:627: \n",
      "Parameters: { \"silent\" } might not be used.\n",
      "\n",
      "  This could be a false alarm, with some parameters getting used by language bindings but\n",
      "  then being mistakenly passed down to XGBoost core, or some parameter actually being used\n",
      "  but getting flagged wrongly here. Please open an issue if you find any such cases.\n",
      "\n",
      "\n",
      "[02:50:14] WARNING: /Users/runner/work/xgboost/xgboost/python-package/build/temp.macosx-11.0-arm64-cpython-38/xgboost/src/learner.cc:627: \n",
      "Parameters: { \"silent\" } might not be used.\n",
      "\n",
      "  This could be a false alarm, with some parameters getting used by language bindings but\n",
      "  then being mistakenly passed down to XGBoost core, or some parameter actually being used\n",
      "  but getting flagged wrongly here. Please open an issue if you find any such cases.\n",
      "\n",
      "\n",
      "[02:50:21] WARNING: /Users/runner/work/xgboost/xgboost/python-package/build/temp.macosx-11.0-arm64-cpython-38/xgboost/src/learner.cc:627: \n",
      "Parameters: { \"silent\" } might not be used.\n",
      "\n",
      "  This could be a false alarm, with some parameters getting used by language bindings but\n",
      "  then being mistakenly passed down to XGBoost core, or some parameter actually being used\n",
      "  but getting flagged wrongly here. Please open an issue if you find any such cases.\n",
      "\n",
      "\n",
      "[02:49:04] WARNING: /Users/runner/work/xgboost/xgboost/python-package/build/temp.macosx-11.0-arm64-cpython-38/xgboost/src/learner.cc:627: \n",
      "Parameters: { \"silent\" } might not be used.\n",
      "\n",
      "  This could be a false alarm, with some parameters getting used by language bindings but\n",
      "  then being mistakenly passed down to XGBoost core, or some parameter actually being used\n",
      "  but getting flagged wrongly here. Please open an issue if you find any such cases.\n",
      "\n",
      "\n",
      "[02:49:13] WARNING: /Users/runner/work/xgboost/xgboost/python-package/build/temp.macosx-11.0-arm64-cpython-38/xgboost/src/learner.cc:627: \n",
      "Parameters: { \"silent\" } might not be used.\n",
      "\n",
      "  This could be a false alarm, with some parameters getting used by language bindings but\n",
      "  then being mistakenly passed down to XGBoost core, or some parameter actually being used\n",
      "  but getting flagged wrongly here. Please open an issue if you find any such cases.\n",
      "\n",
      "\n",
      "[02:49:18] WARNING: /Users/runner/work/xgboost/xgboost/python-package/build/temp.macosx-11.0-arm64-cpython-38/xgboost/src/learner.cc:627: \n",
      "Parameters: { \"silent\" } might not be used.\n",
      "\n",
      "  This could be a false alarm, with some parameters getting used by language bindings but\n",
      "  then being mistakenly passed down to XGBoost core, or some parameter actually being used\n",
      "  but getting flagged wrongly here. Please open an issue if you find any such cases.\n",
      "\n",
      "\n",
      "[02:49:24] WARNING: /Users/runner/work/xgboost/xgboost/python-package/build/temp.macosx-11.0-arm64-cpython-38/xgboost/src/learner.cc:627: \n",
      "Parameters: { \"silent\" } might not be used.\n",
      "\n",
      "  This could be a false alarm, with some parameters getting used by language bindings but\n",
      "  then being mistakenly passed down to XGBoost core, or some parameter actually being used\n",
      "  but getting flagged wrongly here. Please open an issue if you find any such cases.\n",
      "\n",
      "\n",
      "[02:49:36] WARNING: /Users/runner/work/xgboost/xgboost/python-package/build/temp.macosx-11.0-arm64-cpython-38/xgboost/src/learner.cc:627: \n",
      "Parameters: { \"silent\" } might not be used.\n",
      "\n",
      "  This could be a false alarm, with some parameters getting used by language bindings but\n",
      "  then being mistakenly passed down to XGBoost core, or some parameter actually being used\n",
      "  but getting flagged wrongly here. Please open an issue if you find any such cases.\n",
      "\n",
      "\n",
      "[02:49:47] WARNING: /Users/runner/work/xgboost/xgboost/python-package/build/temp.macosx-11.0-arm64-cpython-38/xgboost/src/learner.cc:627: \n",
      "Parameters: { \"silent\" } might not be used.\n",
      "\n",
      "  This could be a false alarm, with some parameters getting used by language bindings but\n",
      "  then being mistakenly passed down to XGBoost core, or some parameter actually being used\n",
      "  but getting flagged wrongly here. Please open an issue if you find any such cases.\n",
      "\n",
      "\n",
      "[02:49:58] WARNING: /Users/runner/work/xgboost/xgboost/python-package/build/temp.macosx-11.0-arm64-cpython-38/xgboost/src/learner.cc:627: \n",
      "Parameters: { \"silent\" } might not be used.\n",
      "\n",
      "  This could be a false alarm, with some parameters getting used by language bindings but\n",
      "  then being mistakenly passed down to XGBoost core, or some parameter actually being used\n",
      "  but getting flagged wrongly here. Please open an issue if you find any such cases.\n",
      "\n",
      "\n",
      "[02:50:04] WARNING: /Users/runner/work/xgboost/xgboost/python-package/build/temp.macosx-11.0-arm64-cpython-38/xgboost/src/learner.cc:627: \n",
      "Parameters: { \"silent\" } might not be used.\n",
      "\n",
      "  This could be a false alarm, with some parameters getting used by language bindings but\n",
      "  then being mistakenly passed down to XGBoost core, or some parameter actually being used\n",
      "  but getting flagged wrongly here. Please open an issue if you find any such cases.\n",
      "\n",
      "\n",
      "[02:50:10] WARNING: /Users/runner/work/xgboost/xgboost/python-package/build/temp.macosx-11.0-arm64-cpython-38/xgboost/src/learner.cc:627: \n",
      "Parameters: { \"silent\" } might not be used.\n",
      "\n",
      "  This could be a false alarm, with some parameters getting used by language bindings but\n",
      "  then being mistakenly passed down to XGBoost core, or some parameter actually being used\n",
      "  but getting flagged wrongly here. Please open an issue if you find any such cases.\n",
      "\n",
      "\n",
      "[02:50:20] WARNING: /Users/runner/work/xgboost/xgboost/python-package/build/temp.macosx-11.0-arm64-cpython-38/xgboost/src/learner.cc:627: \n",
      "Parameters: { \"silent\" } might not be used.\n",
      "\n",
      "  This could be a false alarm, with some parameters getting used by language bindings but\n",
      "  then being mistakenly passed down to XGBoost core, or some parameter actually being used\n",
      "  but getting flagged wrongly here. Please open an issue if you find any such cases.\n",
      "\n",
      "\n",
      "Fitting 2 folds for each of 4 candidates, totalling 8 fits\n",
      "[02:50:45] WARNING: /Users/runner/work/xgboost/xgboost/python-package/build/temp.macosx-11.0-arm64-cpython-38/xgboost/src/learner.cc:627: \n",
      "Parameters: { \"silent\" } might not be used.\n",
      "\n",
      "  This could be a false alarm, with some parameters getting used by language bindings but\n",
      "  then being mistakenly passed down to XGBoost core, or some parameter actually being used\n",
      "  but getting flagged wrongly here. Please open an issue if you find any such cases.\n",
      "\n",
      "\n",
      "\n"
     ]
    },
    {
     "data": {
      "text/plain": [
       "0.2610309680302938"
      ]
     },
     "execution_count": 78,
     "metadata": {},
     "output_type": "execute_result"
    }
   ],
   "source": [
    "# Run random search for 25 iterations\n",
    "\n",
    "start = time.time()\n",
    "rs.fit(X_train, y_train)\n",
    "end = time.time()\n",
    "print()\n",
    "(end - start)/60  "
   ]
  },
  {
   "cell_type": "markdown",
   "id": "2dd45294",
   "metadata": {},
   "source": [
    "<b>Performance scores\n"
   ]
  },
  {
   "cell_type": "code",
   "execution_count": 79,
   "id": "87147d99",
   "metadata": {},
   "outputs": [
    {
     "data": {
      "text/plain": [
       "'Best score: -0.07585813754631704 '"
      ]
     },
     "execution_count": 79,
     "metadata": {},
     "output_type": "execute_result"
    }
   ],
   "source": [
    "f\"Best score: {rs.best_score_} \"         "
   ]
  },
  {
   "cell_type": "code",
   "execution_count": 80,
   "id": "b0bcf7c4",
   "metadata": {},
   "outputs": [
    {
     "name": "stdout",
     "output_type": "stream",
     "text": [
      "\n"
     ]
    },
    {
     "data": {
      "text/plain": [
       "\"Best parameter set {'xg__n_estimators': 118, 'xg__max_depth': 3, 'xg__learning_rate': 1, 'pca__n_components': 9}\""
      ]
     },
     "execution_count": 80,
     "metadata": {},
     "output_type": "execute_result"
    }
   ],
   "source": [
    "print()\n",
    "f\"Best parameter set {rs.best_params_}\""
   ]
  },
  {
   "cell_type": "code",
   "execution_count": 81,
   "id": "add11b9c",
   "metadata": {},
   "outputs": [
    {
     "name": "stdout",
     "output_type": "stream",
     "text": [
      "--Few predictions--\n",
      "\n"
     ]
    },
    {
     "data": {
      "text/plain": [
       "array([1, 0, 0, 0])"
      ]
     },
     "execution_count": 81,
     "metadata": {},
     "output_type": "execute_result"
    }
   ],
   "source": [
    "#Make predictions using the best returned model\n",
    "y_pred = rs.predict(X_test)\n",
    "print(\"--Few predictions--\\n\")\n",
    "y_pred[:4]"
   ]
  },
  {
   "cell_type": "code",
   "execution_count": 82,
   "id": "cb9f4ca0",
   "metadata": {},
   "outputs": [
    {
     "name": "stdout",
     "output_type": "stream",
     "text": [
      "\n",
      "\n",
      "--mse--\n",
      "\n"
     ]
    },
    {
     "data": {
      "text/plain": [
       "7.043973941368079"
      ]
     },
     "execution_count": 82,
     "metadata": {},
     "output_type": "execute_result"
    }
   ],
   "source": [
    "#Accuracy score\n",
    "from sklearn.metrics import accuracy_score\n",
    "\n",
    "print(\"\\n\\n--mse--\\n\")\n",
    "accuracy = mean_squared_error(y_test, y_pred)\n",
    "accuracy * 100.0  "
   ]
  },
  {
   "cell_type": "markdown",
   "id": "5ed64d10",
   "metadata": {},
   "source": [
    "Mean square error (MSE) is the average of the square of the errors. The larger the number the larger the error.\n",
    "MSE value increases in RandomSearch"
   ]
  },
  {
   "cell_type": "markdown",
   "id": "ef52fd33",
   "metadata": {},
   "source": [
    "***\n",
    "\n",
    "***\n",
    "\n",
    " <I><U>                                   This Notebook Ends Here"
   ]
  },
  {
   "cell_type": "code",
   "execution_count": null,
   "id": "12fe951c",
   "metadata": {},
   "outputs": [],
   "source": []
  }
 ],
 "metadata": {
  "kernelspec": {
   "display_name": "Python 3 (ipykernel)",
   "language": "python",
   "name": "python3"
  },
  "language_info": {
   "codemirror_mode": {
    "name": "ipython",
    "version": 3
   },
   "file_extension": ".py",
   "mimetype": "text/x-python",
   "name": "python",
   "nbconvert_exporter": "python",
   "pygments_lexer": "ipython3",
   "version": "3.9.12"
  }
 },
 "nbformat": 4,
 "nbformat_minor": 5
}
